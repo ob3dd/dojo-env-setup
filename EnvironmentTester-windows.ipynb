{
 "cells": [
  {
   "cell_type": "markdown",
   "id": "884ad119",
   "metadata": {},
   "source": [
    "#  `dojo-env`  Environment Tester - Windows"
   ]
  },
  {
   "cell_type": "markdown",
   "id": "5d927639",
   "metadata": {},
   "source": [
    "- Updated 08/29/23"
   ]
  },
  {
   "cell_type": "markdown",
   "id": "5dbf3eeb-c3b3-4341-bdd2-ed9a88e41661",
   "metadata": {},
   "source": [
    "## Instructions"
   ]
  },
  {
   "cell_type": "markdown",
   "id": "f0f3bcbe",
   "metadata": {},
   "source": [
    ">- This notebook is meant to be a quick summary/verification of your computer's environment.\n",
    ">- Please run all of the cells to get all of the information displayed. \n",
    "    - Note: you can press `Shift + Enter` to run an individual cell, but we recommend following the instructions below for using Restart and Run All"
   ]
  },
  {
   "cell_type": "markdown",
   "id": "7b6cf470-2b0a-40b7-8320-d66a1d89e9a1",
   "metadata": {},
   "source": [
    "### Step 2.5.2) Change the notebook's kernel to dojo-env"
   ]
  },
  {
   "cell_type": "markdown",
   "id": "b2a7e99a-fdf8-4b0b-97fc-3423de4d73a3",
   "metadata": {},
   "source": [
    "We want to run all of the cells in this notebook and confirm it can make it to the end without errors.\n",
    "\n",
    "- First, confirm the notebook is using dojo-env. In the top-right corner you should see \"Python (dojo-env)\". \n",
    "\n",
    "    <img src=\"https://assets.codingdojo.com/boomyeah2015/codingdojo/curriculum/content/chapter/1691543292__jupyternotebooktoolbarannotatekernel.jpg\" width=800px%>\n",
    "\n",
    "- If you do not see Python(dojo-env), click on the name of the kernel displayed to open the Change Kernel menu.\n",
    "\n",
    "    <img src=\"https://assets.codingdojo.com/boomyeah2015/codingdojo/curriculum/content/chapter/1691543640__jupyterkernelarrow.png\" height=50px>\n",
    "\n",
    "\n",
    "- Select Python(dojo-env) from the dropdown menu:\n",
    "\n",
    "    <img src=\"https://assets.codingdojo.com/boomyeah2015/codingdojo/curriculum/content/chapter/1691543640__jupyterdropdown.png\" height=50px>\n",
    "\n",
    "    <img src=\"https://assets.codingdojo.com/boomyeah2015/codingdojo/curriculum/content/chapter/1691543640__jupyterdropdownselectkernel.png\" height=50px>\n",
    "\n",
    "    "
   ]
  },
  {
   "attachments": {},
   "cell_type": "markdown",
   "id": "5e62c951-e37c-42dd-9003-ee0c1fb6aeb6",
   "metadata": {},
   "source": [
    "### Step 2.5.3) Run the environment tester notebook from start to finish.\n",
    "\n",
    "- **On the toolbar, select \"View\" > \"Table of Contents\" to open the table of contents sidebar.**\n",
    "\n",
    "  <img src=\"https://assets.codingdojo.com/boomyeah2015/codingdojo/curriculum/content/chapter/1692305055__Screenshot20230817at44355PM.png\" width=400px>\n",
    "  \n",
    "- The table of contents side bar should open on the left side of your notebook:\n",
    "\n",
    "<img src=\"https://assets.codingdojo.com/boomyeah2015/codingdojo/curriculum/content/chapter/1692305110__Screenshot20230817at44451PM.png\" width=400px>\n",
    "\n",
    "- The sidebar shows circles next to the headers to indicate what code is running:\n",
    "    - Empty circles will appear next to the names of headers that are waiting to run.\n",
    "    - The header with the dark circle is the one currently running\n",
    "    - Any header without a circle has finished running.\n",
    " \n",
    "- You may use the sidebar to track your notebook's progress as you perform the next step.\n",
    "\n",
    "\n",
    "\n",
    "- **Run the Entire Notebook:**\n",
    "\n",
    "    - **Select the \"Kernel\" Menu > \"Restart and Run All Cells\"**\n",
    "\n",
    "        - You can also use the toolbar button, which resembles a fast-forward symbol >>.\n",
    "\n",
    "        <img src=\"https://assets.codingdojo.com/boomyeah2015/codingdojo/curriculum/content/chapter/1691544402__jupyternotebooktoolbarrunall.jpg\" width=400px>\n",
    "\n",
    "- **Wait patiently.** \n",
    "\n",
    "    The testing notebook is going to run through several modeling and EDA steps to confirm that the packages are working correctly.\n",
    "\n",
    "    - This could take anywhere from 2-20 minutes to run.\n",
    "    - You will see the web browser tab icon turn to an hourglass when the notebook is running and back to an orange notebook icon when it is done.\n",
    "\n",
    "- **Scroll down to the bottom of the notebook and confirm the cells have run:**\n",
    "\n",
    "    - Check if the very last cell printed the success message."
   ]
  },
  {
   "cell_type": "markdown",
   "id": "99cee551-d65d-4079-848b-3b2212dad91b",
   "metadata": {},
   "source": []
  },
  {
   "cell_type": "markdown",
   "id": "7b5f8732-ceb4-40f2-b8e5-63f2de9baf9c",
   "metadata": {},
   "source": [
    "## Test Code:"
   ]
  },
  {
   "cell_type": "markdown",
   "id": "a6aeb364",
   "metadata": {},
   "source": [
    "### Check Conda"
   ]
  },
  {
   "cell_type": "code",
   "execution_count": null,
   "id": "ae594389",
   "metadata": {},
   "outputs": [],
   "source": [
    "## If the following cell errors, uncomment and run the following 2 linesL\n",
    "# !pip uninstall tzlocal --y\n",
    "# !pip install tzlocal"
   ]
  },
  {
   "cell_type": "code",
   "execution_count": null,
   "id": "75cac8d6",
   "metadata": {},
   "outputs": [],
   "source": [
    "# ## Exporting Troubleshooting report\n",
    "%run \"Troubleshooting\\\\Troubleshooting Report.ipynb\"\n",
    "\n",
    "# with open(\"FINAL_REPORT.txt\") as f:\n",
    "# \tfinal_report = f.read()\n",
    "# # print(final_report)"
   ]
  },
  {
   "cell_type": "code",
   "execution_count": null,
   "id": "1c407030",
   "metadata": {},
   "outputs": [],
   "source": [
    "## Recording time notebook was run\n",
    "import datetime as dt\n",
    "from tzlocal import get_localzone, get_localzone_name\n",
    "now = dt.datetime.now(get_localzone())\n",
    "now_nice = now.strftime(\"%m/%d/%Y @ %I:%M:%S %p \") + f\"(tz={get_localzone_name().split('/')[-1]})\"\n",
    "print(f'[i] Environment Tester Notebook started at: {now_nice}')"
   ]
  },
  {
   "cell_type": "code",
   "execution_count": null,
   "id": "01fedf9a",
   "metadata": {},
   "outputs": [],
   "source": [
    "## GET CURRENT ENVIRONMENT INFO\n",
    "%conda info"
   ]
  },
  {
   "cell_type": "code",
   "execution_count": null,
   "id": "e83a69c5",
   "metadata": {},
   "outputs": [],
   "source": [
    "## CHECK PYTHON VERSION (should be 3.10)\n",
    "!python --version"
   ]
  },
  {
   "cell_type": "code",
   "execution_count": null,
   "id": "508c0333",
   "metadata": {},
   "outputs": [],
   "source": [
    "## Folder path to python\n",
    "!which python"
   ]
  },
  {
   "cell_type": "code",
   "execution_count": null,
   "id": "c921487d",
   "metadata": {},
   "outputs": [],
   "source": [
    "## Home folder\n",
    "import os\n",
    "print(os.environ['HOME'])"
   ]
  },
  {
   "cell_type": "markdown",
   "id": "e024806d",
   "metadata": {},
   "source": [
    "### Quick Check - Python Packages"
   ]
  },
  {
   "cell_type": "code",
   "execution_count": null,
   "id": "6fe05fcc",
   "metadata": {},
   "outputs": [],
   "source": [
    "# 1.5.3\n",
    "import pandas as pd\n",
    "pd.__version__"
   ]
  },
  {
   "cell_type": "code",
   "execution_count": null,
   "id": "9948193a",
   "metadata": {},
   "outputs": [],
   "source": [
    "# 1.23.4\n",
    "import numpy as np\n",
    "np.__version__"
   ]
  },
  {
   "cell_type": "code",
   "execution_count": null,
   "id": "c2dd7f0c",
   "metadata": {},
   "outputs": [],
   "source": [
    "# 3.7.1\n",
    "import matplotlib.pyplot as plt\n",
    "import matplotlib as mpl\n",
    "mpl.__version__"
   ]
  },
  {
   "cell_type": "code",
   "execution_count": null,
   "id": "181a1dd9",
   "metadata": {},
   "outputs": [],
   "source": [
    "# 0.12.2\n",
    "import seaborn as sns\n",
    "sns.__version__"
   ]
  },
  {
   "cell_type": "code",
   "execution_count": null,
   "id": "9aa602f4",
   "metadata": {},
   "outputs": [],
   "source": [
    "# 1.2.2\n",
    "import sklearn as sk\n",
    "from sklearn.preprocessing import StandardScaler\n",
    "sk.__version__"
   ]
  },
  {
   "cell_type": "code",
   "execution_count": null,
   "id": "203919a5",
   "metadata": {},
   "outputs": [],
   "source": [
    "# 1.10.1\n",
    "import scipy as sp\n",
    "from scipy import stats\n",
    "sp.__version__"
   ]
  },
  {
   "cell_type": "code",
   "execution_count": null,
   "id": "20bc3802",
   "metadata": {},
   "outputs": [],
   "source": [
    "# 1.0.3\n",
    "import pymysql\n",
    "pymysql.__version__"
   ]
  },
  {
   "cell_type": "code",
   "execution_count": null,
   "id": "1abb33c6",
   "metadata": {},
   "outputs": [],
   "source": [
    "# 0.13.5\n",
    "import statsmodels\n",
    "import statsmodels.api as sm\n",
    "statsmodels.__version__"
   ]
  },
  {
   "cell_type": "code",
   "execution_count": null,
   "id": "4a94f9bd",
   "metadata": {},
   "outputs": [],
   "source": [
    "# 2.0.3\n",
    "import pmdarima as pmd\n",
    "pmd.__version__"
   ]
  },
  {
   "cell_type": "code",
   "execution_count": null,
   "id": "51e4025b",
   "metadata": {},
   "outputs": [],
   "source": [
    "# 0.41.0\n",
    "import shap\n",
    "shap.__version__"
   ]
  },
  {
   "cell_type": "code",
   "execution_count": null,
   "id": "566ba727",
   "metadata": {},
   "outputs": [],
   "source": [
    "# 0.10.0\n",
    "import imblearn\n",
    "imblearn.__version__"
   ]
  },
  {
   "cell_type": "code",
   "execution_count": null,
   "id": "fae01bba",
   "metadata": {},
   "outputs": [],
   "source": [
    "# # 0.6.7\n",
    "# import dython \n",
    "# dython.__version__"
   ]
  },
  {
   "cell_type": "code",
   "execution_count": null,
   "id": "003549e7",
   "metadata": {},
   "outputs": [],
   "source": [
    "## As long as m1 mac installed the m1 env, this should work\n",
    "# should be 2.9.1 (or 2.12)\n",
    "try:\n",
    "    import tensorflow as tf\n",
    "    print(tf.__version__)\n",
    "except Exception as e: \n",
    "    display(e)"
   ]
  },
  {
   "cell_type": "code",
   "execution_count": null,
   "id": "e79a3309",
   "metadata": {},
   "outputs": [],
   "source": [
    "# 1.1.3\n",
    "import sklearn\n",
    "sklearn.__version__"
   ]
  },
  {
   "cell_type": "markdown",
   "id": "7807d6f2",
   "metadata": {},
   "source": [
    "### Check Shell/Terminal"
   ]
  },
  {
   "cell_type": "code",
   "execution_count": null,
   "id": "abc62def",
   "metadata": {},
   "outputs": [],
   "source": [
    "import os\n",
    "\n",
    "# shell = !echo $SHELL\n",
    "shell = os.environ['SHELL']\n",
    "shell"
   ]
  },
  {
   "cell_type": "code",
   "execution_count": null,
   "id": "67795f48",
   "metadata": {},
   "outputs": [],
   "source": [
    "# path\n",
    "os.environ['PATH']"
   ]
  },
  {
   "cell_type": "code",
   "execution_count": null,
   "id": "32030b30",
   "metadata": {},
   "outputs": [],
   "source": [
    "# python path\n",
    "# os.environ['PYTHONPATH']"
   ]
  },
  {
   "cell_type": "markdown",
   "id": "1cd5defd",
   "metadata": {},
   "source": [
    "### Display the Profile For Your Terminal/GitBash"
   ]
  },
  {
   "cell_type": "code",
   "execution_count": null,
   "id": "01955b87",
   "metadata": {},
   "outputs": [],
   "source": [
    "!whoami"
   ]
  },
  {
   "cell_type": "code",
   "execution_count": null,
   "id": "22c56c8c",
   "metadata": {},
   "outputs": [],
   "source": [
    "import os\n",
    "# ## Checking .bash_profile or .zshrc\n",
    "# if 'zsh' in shell[0]:\n",
    "#     print(f'[i] Using .zshrc')\n",
    "#     fname = r\"~/.zshrc\"\n",
    "# else:\n",
    "#     print(f'[i] Using .bash_profile')\n",
    "fname = r\"~/.bash_profile\"\n",
    "    \n",
    "profile = !cat {fname}\n",
    "print('\\n'.join(profile))"
   ]
  },
  {
   "cell_type": "markdown",
   "id": "ceea8363",
   "metadata": {},
   "source": [
    "### In-Depth Package Tests"
   ]
  },
  {
   "cell_type": "code",
   "execution_count": null,
   "id": "cd7b68c6",
   "metadata": {},
   "outputs": [],
   "source": [
    "import pandas as pd\n",
    "df = pd.read_csv(\"https://docs.google.com/spreadsheets/d/e/2PACX-1vRsXeEswMPJqEh9xpXed0eJYaQf_aKkNCypU4TKvGrS_hucLW2IWUxrVBjlKQJR4Z_EQFE-YR4UUuTz/pub?output=csv\",\n",
    "                index_col=0)\n",
    "df"
   ]
  },
  {
   "cell_type": "markdown",
   "id": "495d9549-a0fc-4313-9748-ac4be9f76ae6",
   "metadata": {},
   "source": [
    "### Missingno"
   ]
  },
  {
   "cell_type": "code",
   "execution_count": null,
   "id": "3714d794-24ed-46bf-9407-729c8b89d854",
   "metadata": {},
   "outputs": [],
   "source": [
    "import missingno\n",
    "missingno.matrix(df)"
   ]
  },
  {
   "cell_type": "markdown",
   "id": "d7b5d592",
   "metadata": {},
   "source": [
    "#### Pandas Optional Dependencies"
   ]
  },
  {
   "cell_type": "markdown",
   "id": "10bd5994",
   "metadata": {},
   "source": [
    "##### to_markdown"
   ]
  },
  {
   "cell_type": "code",
   "execution_count": null,
   "id": "698cb6a2",
   "metadata": {},
   "outputs": [],
   "source": [
    "print(df.head().to_markdown())"
   ]
  },
  {
   "cell_type": "markdown",
   "id": "0a33aa64",
   "metadata": {},
   "source": [
    "#### xlsxwriter"
   ]
  },
  {
   "cell_type": "code",
   "execution_count": null,
   "id": "318478d6",
   "metadata": {},
   "outputs": [],
   "source": [
    "with pd.ExcelWriter('test.xlsx') as writer:\n",
    "    df.head().to_excel(writer, sheet_name='FirstRows')\n",
    "    df.tail().to_excel(writer, sheet_name='LastRows')"
   ]
  },
  {
   "cell_type": "code",
   "execution_count": null,
   "id": "a6bd7d45-9b6a-4e74-8819-08314595f76b",
   "metadata": {},
   "outputs": [],
   "source": [
    "file = pd.ExcelFile('test.xlsx')\n",
    "print(file.sheet_names)\n",
    "file.close()"
   ]
  },
  {
   "cell_type": "markdown",
   "id": "e1ce3c85-a41e-4827-9e77-dc2d08da15ba",
   "metadata": {},
   "source": [
    "#### openpyxl"
   ]
  },
  {
   "cell_type": "code",
   "execution_count": null,
   "id": "53bbc489-d16a-4c49-b692-71165fefa9b4",
   "metadata": {},
   "outputs": [],
   "source": [
    "pd.read_excel('test.xlsx', sheet_name='FirstRows')"
   ]
  },
  {
   "cell_type": "markdown",
   "id": "f12cf9f6",
   "metadata": {},
   "source": [
    "### MODELING"
   ]
  },
  {
   "cell_type": "markdown",
   "id": "6e0aab1e",
   "metadata": {},
   "source": [
    "#### Scikit-learn v.1.2"
   ]
  },
  {
   "cell_type": "code",
   "execution_count": null,
   "id": "0918236f",
   "metadata": {},
   "outputs": [],
   "source": [
    "from sklearn.preprocessing import OneHotEncoder, StandardScaler\n",
    "from sklearn.compose import ColumnTransformer, make_column_selector,make_column_transformer\n",
    "from sklearn.impute import SimpleImputer\n",
    "from sklearn.pipeline import Pipeline, make_pipeline\n",
    "from sklearn.model_selection import train_test_split\n",
    "from sklearn import set_config\n",
    "try:\n",
    "    set_config(transform_output='pandas')\n",
    "except Exception as e:\n",
    "    display(e)"
   ]
  },
  {
   "cell_type": "code",
   "execution_count": null,
   "id": "a0fb605d",
   "metadata": {},
   "outputs": [],
   "source": [
    "df.info()"
   ]
  },
  {
   "cell_type": "code",
   "execution_count": null,
   "id": "09ba6e12",
   "metadata": {},
   "outputs": [],
   "source": [
    "## dropping column that are not helpful\n",
    "bad_cols = ['Name','Ticket']\n",
    "df.drop(columns=bad_cols,inplace=True)"
   ]
  },
  {
   "cell_type": "code",
   "execution_count": null,
   "id": "b1e52019",
   "metadata": {},
   "outputs": [],
   "source": [
    "## Specifying root names of types of features to loop through and filter out from df\n",
    "target_col = 'Survived'\n",
    "drop_cols = ['Cabin']\n",
    "\n",
    "y = df[target_col].copy()\n",
    "X = df.drop(columns=[target_col,*drop_cols]).copy()\n",
    "\n",
    "X_train,X_test,y_train,y_test = train_test_split(X,y,random_state=321)\n",
    "y_train.value_counts(1)"
   ]
  },
  {
   "cell_type": "code",
   "execution_count": null,
   "id": "72c8c48b",
   "metadata": {},
   "outputs": [],
   "source": [
    "## feature selectors\n",
    "cat_sel = make_column_selector(dtype_include='object')\n",
    "num_sel = make_column_selector(dtype_include='number')"
   ]
  },
  {
   "cell_type": "code",
   "execution_count": null,
   "id": "fe16c75a",
   "metadata": {},
   "outputs": [],
   "source": [
    "## create pipelines and column transformer\n",
    "num_transformer = Pipeline(steps=[\n",
    "    ('imputer',SimpleImputer(strategy='median')),\n",
    "    ('scale',StandardScaler())])\n",
    "\n",
    "cat_transformer = Pipeline(steps=[\n",
    "    ('imputer',SimpleImputer(strategy='constant',fill_value='MISSING')),\n",
    "    ('encoder',OneHotEncoder(sparse_output=False,handle_unknown='ignore',\n",
    "                             drop='first'))])\n",
    "                           \n",
    "                           \n",
    "                           \n",
    "## COMBINE BOTH PIPELINES INTO ONE WITH COLUMN TRANSFORMER\n",
    "preprocessor=ColumnTransformer(transformers=[\n",
    "    ('num',num_transformer,num_sel),\n",
    "    ('cat',cat_transformer,cat_sel)], verbose_feature_names_out=False)\n",
    "\n",
    "preprocessor"
   ]
  },
  {
   "cell_type": "code",
   "execution_count": null,
   "id": "25514039",
   "metadata": {},
   "outputs": [],
   "source": [
    "from sklearn import set_config\n",
    "set_config(transform_output='pandas')"
   ]
  },
  {
   "cell_type": "code",
   "execution_count": null,
   "id": "84a1d2d9",
   "metadata": {},
   "outputs": [],
   "source": [
    "## Fit preprocessing pipeline on training data and pull out the feature names and X_cols\n",
    "preprocessor.fit(X_train)\n",
    "X_train_df = preprocessor.transform(X_train)\n",
    "X_test_df = preprocessor.transform(X_test)\n",
    "X_train_df.head()"
   ]
  },
  {
   "cell_type": "code",
   "execution_count": null,
   "id": "df67f2d9",
   "metadata": {},
   "outputs": [],
   "source": [
    "def evaluate_classification(model,X,y_true, classes=None, normalize='true',\n",
    "                            cmap=\"Blues\",  label=\"Test Data\", figsize=(5,3)): \n",
    "\n",
    "    ## Get Predictions\n",
    "    y_pred = model.predict(X)\n",
    "    \n",
    "    ## Classification Report / Scores \n",
    "    dashes = '---'*20\n",
    "    print(dashes)\n",
    "    print(f\"[i] CLASSIFICATION REPORT FOR: {label}\")\n",
    "    print(dashes)\n",
    "    \n",
    "    print(metrics.classification_report(y_true,y_pred,\n",
    "                                        target_names=classes))\n",
    "    # print(dashes)\n",
    "    \n",
    "\n",
    "    ## Plot a confusion matrix\n",
    "    fig, ax = plt.subplots(figsize=figsize)\n",
    "    metrics.ConfusionMatrixDisplay.from_predictions(y_true,y_pred,\n",
    "                                                         normalize=normalize,\n",
    "                                                        cmap=cmap,ax=ax)\n",
    "\n",
    "\n",
    "    if classes != None:\n",
    "        ## Label classes\n",
    "        ax.set_xticklabels(classes)\n",
    "        ax.set_yticklabels(classes,rotation=0)\n",
    "\n",
    "    ## Add axis labels & title\n",
    "    ax.set_ylabel('True Classes')\n",
    "    ax.set_xlabel('Predicted Classes')\n",
    "    ax.set_title('Confusion Matrix');\n",
    "    plt.show()\n",
    "    \n",
    "    \n",
    "    "
   ]
  },
  {
   "cell_type": "code",
   "execution_count": null,
   "id": "1fd6a0af",
   "metadata": {},
   "outputs": [],
   "source": [
    "import sklearn.metrics as metrics\n",
    "\n",
    "from sklearn.ensemble import RandomForestClassifier\n",
    "rf = RandomForestClassifier()\n",
    "rf.fit(X_train_df,y_train)\n",
    "evaluate_classification(rf,X_test_df,y_test)"
   ]
  },
  {
   "cell_type": "markdown",
   "id": "11b7db28",
   "metadata": {},
   "source": [
    "### MODEL EXPLANATIONS"
   ]
  },
  {
   "cell_type": "markdown",
   "id": "e9f30dff",
   "metadata": {},
   "source": [
    "#### Shap"
   ]
  },
  {
   "cell_type": "code",
   "execution_count": null,
   "id": "3af4051a",
   "metadata": {},
   "outputs": [],
   "source": [
    "import shap \n",
    "print(shap.__version__)\n",
    "shap.initjs()"
   ]
  },
  {
   "cell_type": "code",
   "execution_count": null,
   "id": "c3ba24a9",
   "metadata": {},
   "outputs": [],
   "source": [
    "## Initialize an explainer with the model\n",
    "explainer = shap.TreeExplainer(rf)\n",
    "\n",
    "## Calculaate shap values for test data\n",
    "shap_values = explainer.shap_values(X_test_df,y_test)\n",
    "len(shap_values)"
   ]
  },
  {
   "cell_type": "code",
   "execution_count": null,
   "id": "1c5dfefc",
   "metadata": {},
   "outputs": [],
   "source": [
    "shap.summary_plot(shap_values[1],X_test_df,max_display=40)"
   ]
  },
  {
   "cell_type": "markdown",
   "id": "563b10a9",
   "metadata": {},
   "source": [
    "#### Lime"
   ]
  },
  {
   "cell_type": "code",
   "execution_count": null,
   "id": "31cbe6d2",
   "metadata": {},
   "outputs": [],
   "source": [
    "from lime.lime_tabular import LimeTabularExplainer\n",
    "\n",
    "lime_explainer =LimeTabularExplainer(\n",
    "    training_data=np.array(X_test_df),\n",
    "    feature_names=X_test_df.columns,\n",
    "    class_names=['Died', 'Survived'],\n",
    "    mode='classification'\n",
    ")\n",
    "\n",
    "row = np.random.choice(range(len(X_test_df)))\n",
    "target_lookup = {0:'Died',1:'Survived'}\n",
    "\n",
    "print(f\"- Row #: {row}\")\n",
    "print(f\"Class = {target_lookup[y_test.iloc[row]]}\")\n",
    "\n",
    "exp = lime_explainer.explain_instance(X_test_df.iloc[row], rf.predict_proba)\n",
    "exp.show_in_notebook(show_table=True)"
   ]
  },
  {
   "cell_type": "markdown",
   "id": "b18accc0",
   "metadata": {},
   "source": [
    "### ADVANCED MODELING"
   ]
  },
  {
   "cell_type": "markdown",
   "id": "d71dd82b",
   "metadata": {},
   "source": [
    "#### XGBoost"
   ]
  },
  {
   "cell_type": "code",
   "execution_count": null,
   "id": "df10da2d",
   "metadata": {
    "scrolled": true
   },
   "outputs": [],
   "source": [
    "from xgboost import XGBClassifier\n",
    "clf = XGBClassifier(use_label_encoder=False, eval_metric='logloss')\n",
    "clf.fit(X_train_df, y_train)\n",
    "evaluate_classification(rf,X_test_df,y_test)"
   ]
  },
  {
   "cell_type": "markdown",
   "id": "4838205f",
   "metadata": {},
   "source": [
    "#### LightGBM"
   ]
  },
  {
   "cell_type": "code",
   "execution_count": null,
   "id": "62e836ce",
   "metadata": {
    "scrolled": true
   },
   "outputs": [],
   "source": [
    "from lightgbm import LGBMClassifier\n",
    "clf = LGBMClassifier()\n",
    "clf.fit(X_train_df, y_train)\n",
    "evaluate_classification(rf,X_test_df,y_test)"
   ]
  },
  {
   "cell_type": "markdown",
   "id": "e0736b45",
   "metadata": {},
   "source": [
    "### Time Series"
   ]
  },
  {
   "cell_type": "code",
   "execution_count": null,
   "id": "dec1b12d",
   "metadata": {},
   "outputs": [],
   "source": [
    "df_crime = pd.read_csv('https://docs.google.com/spreadsheets/d/e/2PACX-1vQVbSOFab3WcS31FfOdDE7pYxSuo_O7epFxACZElgwUt1gId7qPtn7krQbp39NyAwoAtR7aTdYYtDOw/pub?output=csv',\n",
    "                parse_dates=['CrimeDateTime'],index_col=0)\n",
    "display(df_crime.head())\n",
    "df_crime.index"
   ]
  },
  {
   "cell_type": "code",
   "execution_count": null,
   "id": "07564cde",
   "metadata": {},
   "outputs": [],
   "source": [
    "## Pick a time series from above to work with\n",
    "ts = df_crime['LARCENY']\n",
    "ts.plot(figsize=(12,3))"
   ]
  },
  {
   "cell_type": "code",
   "execution_count": null,
   "id": "01331e80",
   "metadata": {},
   "outputs": [],
   "source": [
    "ts = ts.resample('M').sum().loc[:\"2021\"]\n",
    "ts.plot(figsize=(12,3))"
   ]
  },
  {
   "cell_type": "markdown",
   "id": "35023ced",
   "metadata": {},
   "source": [
    "#### Statsmodels.tsa"
   ]
  },
  {
   "cell_type": "code",
   "execution_count": null,
   "id": "39d9fbdb",
   "metadata": {},
   "outputs": [],
   "source": [
    "import statsmodels.tsa.api as tsa\n",
    "## import seasonal_decompose\n",
    "decomp_mul = tsa.seasonal_decompose(ts,model='mul')#,model='mul')\n",
    "\n",
    "mpl.rcParams['figure.figsize']=(12,6)\n",
    "decomp_mul.plot();"
   ]
  },
  {
   "cell_type": "code",
   "execution_count": null,
   "id": "88fb359e",
   "metadata": {},
   "outputs": [],
   "source": [
    "## Train Test Split Index\n",
    "train_size = 0.8\n",
    "split_idx = round(len(ts)* train_size)\n",
    "split_idx\n",
    "\n",
    "## Split\n",
    "train = ts.iloc[:split_idx]\n",
    "test = ts.iloc[split_idx:]\n",
    "\n",
    "## Visualize split\n",
    "fig,ax= plt.subplots()\n",
    "kws = dict(ax=ax,marker='o')\n",
    "train.plot(**kws)\n",
    "test.plot(**kws)\n",
    "ax.legend(bbox_to_anchor=[1,1])"
   ]
  },
  {
   "cell_type": "code",
   "execution_count": null,
   "id": "559d5c38",
   "metadata": {},
   "outputs": [],
   "source": [
    "import statsmodels.tsa.api as tsa\n",
    "d = 1\n",
    "p = 1\n",
    "q =1\n",
    "model = tsa.SARIMAX(train,order=(p,d,q),).fit()\n",
    "display(model.summary())\n",
    "model.plot_diagnostics();"
   ]
  },
  {
   "cell_type": "code",
   "execution_count": null,
   "id": "f66399c0",
   "metadata": {},
   "outputs": [],
   "source": [
    "from sklearn import metrics\n",
    "forecast = model.forecast(steps=len(test))\n",
    "forecast"
   ]
  },
  {
   "cell_type": "code",
   "execution_count": null,
   "id": "ba703f09",
   "metadata": {},
   "outputs": [],
   "source": [
    "## Getting a forecast\n",
    "forecast = model.get_forecast(len(test))\n",
    "\n",
    "\n",
    "def forecast_to_df(forecast, name='forecast'):\n",
    "    test_pred = forecast.conf_int()\n",
    "    test_pred[name] = forecast.predicted_mean\n",
    "    test_pred.columns = ['lower','upper','prediction']\n",
    "    return test_pred\n",
    "\n",
    "\n",
    "pred_df = forecast_to_df(forecast)#,district)\n",
    "pred_df"
   ]
  },
  {
   "cell_type": "code",
   "execution_count": null,
   "id": "416feba0",
   "metadata": {},
   "outputs": [],
   "source": [
    "fig, ax = plt.subplots()\n",
    "train.plot(ax=ax,label='train')\n",
    "test.plot(ax=ax,label='test')\n",
    "\n",
    "pred_df['prediction'].plot(ax=ax,label='forecast',ls='--')\n",
    "\n",
    "ax.fill_between(x=pred_df.index,y1=pred_df['lower'],y2=pred_df['upper'])\n",
    "ax.legend()"
   ]
  },
  {
   "cell_type": "markdown",
   "id": "fbb95d68",
   "metadata": {},
   "source": [
    "#### pmdarima"
   ]
  },
  {
   "cell_type": "code",
   "execution_count": null,
   "id": "e9b2d4e2",
   "metadata": {},
   "outputs": [],
   "source": [
    "import pmdarima\n",
    "# help(pmdarima.auto_arima)"
   ]
  },
  {
   "cell_type": "code",
   "execution_count": null,
   "id": "9a40a61c",
   "metadata": {},
   "outputs": [],
   "source": [
    "auto_model = pmdarima.auto_arima(train,start_p=0,start_q=0)\n",
    "display(auto_model.summary())\n",
    "# help(auto_model\n",
    "auto_model.plot_diagnostics();"
   ]
  },
  {
   "cell_type": "code",
   "execution_count": null,
   "id": "cda607de",
   "metadata": {},
   "outputs": [],
   "source": [
    "pred_mean,pred_conf_int = auto_model.predict(return_conf_int=True)\n",
    "pred_mean "
   ]
  },
  {
   "cell_type": "code",
   "execution_count": null,
   "id": "064ba81d",
   "metadata": {},
   "outputs": [],
   "source": [
    "pred_df = pd.DataFrame({'pred':pred_mean, \n",
    "                        'conf_int_lower':pred_conf_int[:,0],\n",
    "                        'conf_int_upper':pred_conf_int[:,1]},\n",
    "                        index= pd.date_range(test.index[0],\n",
    "                                                  periods=10,freq='M'))\n",
    "# auto_model.conf_int()\n",
    "pred_df"
   ]
  },
  {
   "cell_type": "code",
   "execution_count": null,
   "id": "2ebbfe34",
   "metadata": {},
   "outputs": [],
   "source": [
    "best_model = tsa.SARIMAX(ts,order=auto_model.order,\n",
    "                     seasonal_order=auto_model.seasonal_order).fit()\n",
    "display(best_model.summary())\n",
    "best_model.plot_diagnostics();"
   ]
  },
  {
   "cell_type": "code",
   "execution_count": null,
   "id": "b44e11e9",
   "metadata": {},
   "outputs": [],
   "source": [
    "def plot_train_test_pred(train,test,pred_df):\n",
    "    fig,ax = plt.subplots()\n",
    "    kws = dict(marker='o')\n",
    "    \n",
    "    ax.plot(train,label='Train',**kws)\n",
    "    ax.plot(test,label='Test',**kws)\n",
    "    ax.plot(pred_df['prediction'],label='prediction',ls='--',**kws)\n",
    "\n",
    "    ax.fill_between(x=pred_df.index,y1=pred_df['lower'],y2=pred_df['upper'])\n",
    "    ax.legend(bbox_to_anchor=[1,1])\n",
    "    fig.tight_layout()\n",
    "    return fig,ax\n"
   ]
  },
  {
   "cell_type": "code",
   "execution_count": null,
   "id": "341f7006",
   "metadata": {},
   "outputs": [],
   "source": [
    "pred = best_model.get_forecast(steps=12)#start=test.index[0],end=test.index[-1])\n",
    "pred_df = forecast_to_df(pred)\n",
    "display(plot_train_test_pred(train,test,pred_df))"
   ]
  },
  {
   "cell_type": "markdown",
   "id": "d39b0962",
   "metadata": {},
   "source": [
    "### Pandas DataReader\n"
   ]
  },
  {
   "cell_type": "code",
   "execution_count": null,
   "id": "62b8545b",
   "metadata": {},
   "outputs": [],
   "source": [
    "import yfinance as yfin\n",
    "yfin.pdr_override()\n",
    "# import pandas_datareader as pdr\n",
    "import pandas_datareader.data as pdr    \n",
    "try:\n",
    "\n",
    "#     example = pdr.DataReader('GOOGL','yahoo','2012','2020')\n",
    "    example = pdr.get_data_yahoo('GOOGL','2012-01-01', '2020-01-01')\n",
    "    display(example.head(10))\n",
    "except: \n",
    "    print('[!] There is a back-end issue with Pandas DataReader and Yahoo finance (as of 12/22/22).')\n",
    "    print(\"\\t- So don't worry... your env is fine!\")"
   ]
  },
  {
   "cell_type": "markdown",
   "id": "409f6d5b-35aa-425b-9fde-ab22c591a05b",
   "metadata": {},
   "source": [
    "### Computer Vision"
   ]
  },
  {
   "cell_type": "markdown",
   "id": "76131aef-e9f6-4c1e-b674-99f4de8c32c4",
   "metadata": {},
   "source": [
    "<img src=\"images/Data Science Thumbnail.png\" width=200px>"
   ]
  },
  {
   "cell_type": "code",
   "execution_count": null,
   "id": "b7a47fe3-ab73-4572-ab54-0f6dfb725d03",
   "metadata": {},
   "outputs": [],
   "source": [
    "import cv2 as cv\n",
    "import matplotlib.pyplot as plt\n",
    "fpath = r\"Test Files/Data Science Thumbnail.png\"\n",
    "\n",
    "# Open image with opencv2 \n",
    "img = cv.imread(fpath)\n",
    "ax = plt.imshow(img)\n",
    "ax.axes.axis('off');"
   ]
  },
  {
   "cell_type": "code",
   "execution_count": null,
   "id": "e35b2834-5392-4b23-915d-7240d1875e1f",
   "metadata": {},
   "outputs": [],
   "source": [
    "#Image reads in as BLUE, GREEN, RED\n",
    "#Matplotlib assumed RED, GREEN, BLUE\n",
    "image_rgb = cv.cvtColor(img, cv.COLOR_BGR2RGB)\n",
    "ax = plt.imshow(image_rgb)\n",
    "ax.axes.axis('off');"
   ]
  },
  {
   "cell_type": "markdown",
   "id": "0ca162a4-e3d2-4669-873c-04c34aaa0938",
   "metadata": {},
   "source": [
    "### Webscraping"
   ]
  },
  {
   "cell_type": "code",
   "execution_count": null,
   "id": "e1105f1d-3a24-4e58-9f2c-a86bc754fb6c",
   "metadata": {},
   "outputs": [],
   "source": [
    "import requests, bs4\n",
    "from IPython.display import display,HTML\n",
    "try:\n",
    "\n",
    "    url = \"https://en.wikipedia.org/wiki/Data_science\"\n",
    "    response = requests.get(url)\n",
    "\n",
    "    with open(\"Test Files/wikipedia-data-science.html\", \"wb\") as f:\n",
    "        f.write(response.content)\n",
    "        \n",
    "except Exception as e:\n",
    "    display(e)\n",
    "    \n",
    "finally:\n",
    "    \n",
    "    with open(\"Test Files/wikipedia-data-science.html\",'rb') as f:\n",
    "        html = f.read()"
   ]
  },
  {
   "cell_type": "code",
   "execution_count": null,
   "id": "c280cdad-291b-424f-97cd-35a6871f1346",
   "metadata": {},
   "outputs": [],
   "source": [
    "soup = bs4.BeautifulSoup(html)\n",
    "body = soup.find_all(attrs={'id':'bodyContent'})[0]\n",
    "doc = body.text"
   ]
  },
  {
   "cell_type": "code",
   "execution_count": null,
   "id": "4b74442b-cd9f-4f6f-925f-470aac7d57c5",
   "metadata": {},
   "outputs": [],
   "source": [
    "display(HTML(str(body)[:5000]))"
   ]
  },
  {
   "cell_type": "markdown",
   "id": "ee43bac9-6d5d-4e47-ae5e-4f338aae78bf",
   "metadata": {},
   "source": [
    "### NLP"
   ]
  },
  {
   "cell_type": "code",
   "execution_count": null,
   "id": "9a0db8bf-c9e6-4e5b-97ef-f4ab4c3ef7e9",
   "metadata": {},
   "outputs": [],
   "source": [
    "from nltk import wordpunct_tokenize\n",
    "from wordcloud import WordCloud, STOPWORDS, ImageColorGenerator"
   ]
  },
  {
   "cell_type": "code",
   "execution_count": null,
   "id": "50ce40e3-e4af-42ff-bb2f-ead4b5083a92",
   "metadata": {},
   "outputs": [],
   "source": [
    "# Tokenize text\n",
    "tokens = wordpunct_tokenize(doc.lower())\n",
    "\n",
    "## Initalize a WordCloud with bigrams\n",
    "wordcloud = WordCloud(stopwords=STOPWORDS,width=1000, height=800, \n",
    "                      collocations=True,colormap='plasma')\n",
    "wordcloud.generate(','.join(tokens),)\n",
    "ax = plt.imshow(wordcloud)\n",
    "ax.axes.axis('off');"
   ]
  },
  {
   "cell_type": "code",
   "execution_count": null,
   "id": "ac581d16-b0ba-4c42-8f67-4b7d7f166eca",
   "metadata": {},
   "outputs": [],
   "source": [
    "## BIGRAMS\n",
    "import nltk\n",
    "import string\n",
    "\n",
    "stopwords_list = list(string.punctuation) +list('0123456789') + list(STOPWORDS)\n",
    "\n",
    "tokens = nltk.wordpunct_tokenize(doc)\n",
    "stopped_tokens = [t.lower() for t in tokens if  t.lower() not in stopwords_list]\n",
    "freq = nltk.FreqDist(stopped_tokens)\n",
    "freq.most_common(10)"
   ]
  },
  {
   "cell_type": "code",
   "execution_count": null,
   "id": "ff792fed-08fe-4e1f-9920-d6d9d91b164c",
   "metadata": {},
   "outputs": [],
   "source": [
    "# To find bigrams, need a Measures and a Finder\n",
    "bigram_measures = nltk.collocations.BigramAssocMeasures()\n",
    "bigram_finder = nltk.BigramCollocationFinder.from_words(tokens)#, window_size=3)\n",
    "\n",
    "# Use the bigram_measures the score the finder\n",
    "tokens_scored = bigram_finder.score_ngrams(bigram_measures.pmi)#bigram_measures.pmi)\n",
    "df_bigrams_pmi =  pd.DataFrame(tokens_scored,\n",
    "                               columns=['Words','PMI'])\n",
    "df_bigrams_pmi = df_bigrams_pmi.set_index('Words')\n",
    "df_bigrams_pmi.head(10)"
   ]
  },
  {
   "cell_type": "markdown",
   "id": "8f3f2253",
   "metadata": {},
   "source": [
    "### Visualizations"
   ]
  },
  {
   "cell_type": "markdown",
   "id": "39a2ac01",
   "metadata": {},
   "source": [
    "#### Plotly"
   ]
  },
  {
   "cell_type": "code",
   "execution_count": null,
   "id": "32fe4c85",
   "metadata": {},
   "outputs": [],
   "source": [
    "import plotly.express as px\n",
    "px.line(data_frame=df_crime)"
   ]
  },
  {
   "cell_type": "markdown",
   "id": "6ab7303d",
   "metadata": {},
   "source": [
    "#### Sklearn `plot_tree`\n"
   ]
  },
  {
   "cell_type": "code",
   "execution_count": null,
   "id": "56befdbf",
   "metadata": {
    "scrolled": true
   },
   "outputs": [],
   "source": [
    "from sklearn.tree import plot_tree\n",
    "tree = rf.estimators_[0]\n",
    "plot_tree(tree, filled=True);"
   ]
  },
  {
   "cell_type": "markdown",
   "id": "149d3b9a",
   "metadata": {},
   "source": [
    "#### Yellowbrick"
   ]
  },
  {
   "cell_type": "code",
   "execution_count": null,
   "id": "946cd0df",
   "metadata": {},
   "outputs": [],
   "source": [
    "import yellowbrick as yb\n",
    "yb.reset_orig()"
   ]
  },
  {
   "cell_type": "code",
   "execution_count": null,
   "id": "815162b6",
   "metadata": {},
   "outputs": [],
   "source": [
    "from yellowbrick.datasets import load_credit\n",
    "from yellowbrick.features import Rank2D\n",
    "\n",
    "# Load the credit dataset\n",
    "X, y = load_credit()\n",
    "\n",
    "# Instantiate the visualizer with the Pearson ranking algorithm\n",
    "visualizer = Rank2D(algorithm='pearson')\n",
    "\n",
    "visualizer.fit(X, y)           # Fit the data to the visualizer\n",
    "visualizer.transform(X)        # Transform the data\n",
    "visualizer.show()              # Finalize and render the figure"
   ]
  },
  {
   "cell_type": "markdown",
   "id": "593bc419",
   "metadata": {},
   "source": [
    "# Instructions - Final Confirmation"
   ]
  },
  {
   "cell_type": "markdown",
   "id": "e5a4c97a",
   "metadata": {},
   "source": [
    "- You should see the success message printed below the last code cell. \n",
    "\n",
    "\n",
    "<img src=\"https://assets.codingdojo.com/boomyeah2015/codingdojo/curriculum/content/chapter/1657130803__env_tester_final_msg.png\">\n",
    "\n",
    "- If the message did not print, your notebook ran into an error somewhere above. \n",
    "\t- Scroll up to find the last cell that ran.\n",
    "\t- If an error message is displayed, follow the steps below to save a copy of the notebook to send to an instructor for help."
   ]
  },
  {
   "cell_type": "markdown",
   "id": "f6418fc3-1e98-48c4-81e5-443dab3631ee",
   "metadata": {},
   "source": [
    "### To Get Help Troubleshooting Your Environment."
   ]
  },
  {
   "cell_type": "markdown",
   "id": "8adf9dac-97b1-4d1b-8e7a-37a052070c47",
   "metadata": {},
   "source": [
    "#### Download Troubleshooting Files to Share \n",
    "\n",
    "- There are 2 files that you should share with your instructor/TA\n",
    "    1. A copy of your Environment Tester notebook that error'd.\n",
    "    2. A copy of \"FINAL_REPORT.txt\" file that is in the Troubleshooting folder of the repo.\n",
    "\n",
    "1. To share your notebook with an instructor/TA for help:\n",
    "\n",
    "    - Click File > Save & Checkpoint.\n",
    "\n",
    "    - Click File > Download\n",
    "\n",
    "    - Your web browser should save a copy of the notebook to your normal \"Downloads\" folder.\n",
    "\n",
    "        \n",
    "\n",
    "        ![img](https://assets.codingdojo.com/boomyeah2015/codingdojo/curriculum/content/chapter/1691543895__downloadnotebook.png)\n",
    "\n",
    "2. To share a copy of your FINAL_REPORT.txt:\n",
    "\n",
    "    - In the first Files tab that opened when you started jupyter notebook you should see a folder called \"Troubleshooting\"\n",
    "    - Click on the Troubleshooting folder.\n",
    "    - Inside the folder you should have a file called \"FINAL_REPORT.txt\".\n",
    "    - Check the checkbox next to the file and click on the \"Download\" button that appears at the top of the list of files.\n",
    "    - Your web browser will also save this file to your Downloads folder.\n",
    "\n",
    "![img](https://assets.codingdojo.com/boomyeah2015/codingdojo/curriculum/content/chapter/1691544219__downloadfinalreport.png)"
   ]
  },
  {
   "cell_type": "markdown",
   "id": "5aac7d89-7f48-48e1-8ebe-5fed82893705",
   "metadata": {},
   "source": [
    "### Ask for Help"
   ]
  },
  {
   "cell_type": "markdown",
   "id": "6d0a8bd4-a20f-45f3-ba47-cdedf11111be",
   "metadata": {},
   "source": [
    "- **First, please check the \"Troubleshooting\" chapter on the learnig platform for a lesson that mentions your problem.** about the problem you are running into. (The Troubleshooting section is the 3rd chapter in this course - see the screenshot below)\n",
    "\n",
    "    <img src=\"https://assets.codingdojo.com/boomyeah2015/codingdojo/curriculum/content/chapter/1658334627__Troubleshooting-chapter.png\" width=200px>\n",
    "\n",
    "- **Second, reach out on the \\#[ds-python-installation Discord channel](https://discord.com/channels/738494436467539968/1099094868762042400) with the following info:**\n",
    "\n",
    "    - A) Which step are you on? (e.g. Step 2.3.3 Confirm the env was created)\n",
    "    - B) Which OS you are using (e.g. Windows 10, Windows 11, Mac with an mchip, Mac with an Intel processor, etc.)\n",
    "    - C) Let us know if you've previously installed an older version of Python.\n",
    "    - D) Attach your copy of the  environment tester notebook and the FINAL_REPORT.txt files.\n",
    "    - E) Include any additional screenshots of the error/issue you are running into, whenever possible.\n",
    "    - F) Add any additional details or info you think may be helpful for us to know.\n",
    "        - For example:\n",
    "            - \"My computer is really old and I think that may be part of the problem.\"\n",
    "            - \"I share this computer with someone else who also uses python\"\n",
    "            - \"This is my work computer and I am not an administrator.\" etc\n",
    "    \n",
    "\n",
    "- **Third, if you do not receive a response by the end of the day on Discord, please email your instructor with the same information.**\n",
    "    - An instructor or TA will get back to you within 1 business day with the next steps for you to try.\n",
    "    - You will most likely need to set up a Zoom call and share your screen for us to help."
   ]
  },
  {
   "cell_type": "markdown",
   "id": "c78f4c13-28d3-41de-ad86-ca9ba479fa92",
   "metadata": {},
   "source": [
    "## Final Confirmation"
   ]
  },
  {
   "cell_type": "code",
   "execution_count": null,
   "id": "d4e0f5f0",
   "metadata": {
    "tags": []
   },
   "outputs": [],
   "source": [
    "print(f\"[i] SUCCESS. YOUR ENVIRONMENT IS FULLY FUNCTIONAL AND READY TO USE!\")\n",
    "end = dt.datetime.now(get_localzone())\n",
    "end_nice = end.strftime(\"%m/%d/%Y @ %I:%M:%S %p \") + f\"(tz={get_localzone_name().split('/')[-1]})\"\n",
    "print(f'    - Time Completed: {end_nice}')\n",
    "\n",
    "duration = end-now\n",
    "print(f'    - Total Time = {(end-now) } (\"HH:MM:SS.ms\")')"
   ]
  }
 ],
 "metadata": {
  "kernelspec": {
   "display_name": "Python (dojo-env)",
   "language": "python",
   "name": "dojo-env"
  },
  "language_info": {
   "codemirror_mode": {
    "name": "ipython",
    "version": 3
   },
   "file_extension": ".py",
   "mimetype": "text/x-python",
   "name": "python",
   "nbconvert_exporter": "python",
   "pygments_lexer": "ipython3",
   "version": "3.10.10"
  },
  "toc": {
   "base_numbering": 1,
   "nav_menu": {
    "height": "493px",
    "width": "527px"
   },
   "number_sections": false,
   "sideBar": true,
   "skip_h1_title": false,
   "title_cell": "Table of Contents",
   "title_sidebar": "Contents",
   "toc_cell": false,
   "toc_position": {
    "height": "calc(100% - 180px)",
    "left": "10px",
    "top": "150px",
    "width": "336px"
   },
   "toc_section_display": true,
   "toc_window_display": false
  },
  "widgets": {
   "application/vnd.jupyter.widget-state+json": {
    "state": {},
    "version_major": 2,
    "version_minor": 0
   }
  }
 },
 "nbformat": 4,
 "nbformat_minor": 5
}
