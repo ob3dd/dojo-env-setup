{
 "cells": [
  {
   "cell_type": "markdown",
   "id": "3fe0deda-d991-4754-9ccc-00597e64718f",
   "metadata": {},
   "source": [
    "# Replace Links\n"
   ]
  },
  {
   "cell_type": "markdown",
   "id": "698b332c-32a0-41e7-8c02-0c62e4c2a317",
   "metadata": {},
   "source": [
    "- This notebook is designed to replace any web-links for images with links to new, locally downloaded versions. \n",
    "- Goal is to make images show up in Markdown files on GitHub and in Jupyter Notebook."
   ]
  },
  {
   "cell_type": "markdown",
   "id": "9e125a5c-d894-4732-b75d-4257a18950bc",
   "metadata": {},
   "source": [
    "- 08/26\n",
    "- This is second attempt, after ChatGPT3.5 starter code failed to work when applied. It only partially worked."
   ]
  },
  {
   "cell_type": "markdown",
   "id": "0335f41a-4d21-4fec-9bba-91f1ca7edec4",
   "metadata": {},
   "source": [
    "### Reference\n",
    "- Final Chat Link for Successful Functions: https://chat.openai.com/share/362b6386-bb66-4956-bf78-d07c33c413cd"
   ]
  },
  {
   "cell_type": "code",
   "execution_count": 14,
   "id": "b7d67d20-e21d-40e2-86da-e2d3f4914a3e",
   "metadata": {
    "execution": {
     "iopub.execute_input": "2023-08-27T01:11:21.825208Z",
     "iopub.status.busy": "2023-08-27T01:11:21.825104Z",
     "iopub.status.idle": "2023-08-27T01:11:22.163090Z",
     "shell.execute_reply": "2023-08-27T01:11:22.161627Z",
     "shell.execute_reply.started": "2023-08-27T01:11:21.825198Z"
    }
   },
   "outputs": [],
   "source": [
    "import os\n",
    "import re\n",
    "import requests\n",
    "from bs4 import BeautifulSoup\n",
    "from urllib.parse import unquote\n",
    "\n",
    "# Sanitize file paths for Windows\n",
    "def sanitize_filepath(filepath):\n",
    "    return re.sub(r'[<>:\"/\\\\|?*]', '_', filepath)\n",
    "\n",
    "# Modified download_image to save in the folder of the original file and check for existing files\n",
    "def download_image(url, folder_path):\n",
    "    filename = os.path.basename(unquote(url))\n",
    "    sanitized_filename = sanitize_filepath(filename)\n",
    "    local_filepath = os.path.join(folder_path, 'images', sanitized_filename)\n",
    "    \n",
    "    # Check if the file already exists locally\n",
    "    if os.path.exists(local_filepath):\n",
    "        return local_filepath\n",
    "    \n",
    "    try:\n",
    "        img_data = requests.get(url).content\n",
    "    except requests.exceptions.MissingSchema:\n",
    "        print(f\"Skipping invalid URL: {url}\")\n",
    "        return None\n",
    "    \n",
    "    with open(local_filepath, 'wb') as img_file:\n",
    "        img_file.write(img_data)\n",
    "    \n",
    "    return local_filepath\n",
    "\n",
    "\n",
    "# # Modified update_markdown to accept folder_path and handle HTML img tags\n",
    "# def update_markdown(file_content, folder_path):\n",
    "#     # Handle Markdown image links\n",
    "#     markdown_pattern = r'!\\[.*?\\]\\((.*?)\\)'\n",
    "#     markdown_matches = re.findall(markdown_pattern, file_content)\n",
    "#     for img_url in markdown_matches:\n",
    "#         local_filepath = download_image(img_url, folder_path)  \n",
    "#         # Replace image URLs with local file paths in HTML format for GitHub compatibility\n",
    "#         file_content = file_content.replace(img_url, f'<img src=\"{local_filepath}\" />')\n",
    "    \n",
    "#     # Handle HTML image links\n",
    "#     html_pattern = r'<img.*?src=\"(.*?)\".*?>'\n",
    "#     html_matches = re.findall(html_pattern, file_content)\n",
    "#     for img_url in html_matches:\n",
    "#         local_filepath = download_image(img_url, folder_path)\n",
    "#         file_content = file_content.replace(img_url, local_filepath)\n",
    "    \n",
    "#     return file_content\n",
    "\n",
    "\n",
    "# Modified update_markdown to accept folder_path and handle HTML img tags without nesting\n",
    "def update_markdown(file_content, folder_path):\n",
    "    # Handle Markdown image links\n",
    "    markdown_pattern = r'!\\[.*?\\]\\((.*?)\\)'\n",
    "    markdown_matches = re.findall(markdown_pattern, file_content)\n",
    "    for img_url in markdown_matches:\n",
    "        # Skip if it's already an HTML img tag\n",
    "        if \"<img\" in img_url:\n",
    "            continue\n",
    "\n",
    "        local_filepath = download_image(img_url, folder_path)  \n",
    "        # Replace image URLs with local file paths in HTML format for GitHub compatibility\n",
    "        replacement = f'<img src=\"{local_filepath}\" />'\n",
    "        file_content = file_content.replace(f'![img]({img_url})', replacement)\n",
    "    \n",
    "    # Handle HTML image links\n",
    "    html_pattern = r'<img.*?src=\"(.*?)\".*?>'\n",
    "    html_matches = re.findall(html_pattern, file_content)\n",
    "    for img_url in html_matches:\n",
    "        local_filepath = download_image(img_url, folder_path)\n",
    "        file_content = file_content.replace(f'src=\"{img_url}\"', f'src=\"{local_filepath}\"')\n",
    "    \n",
    "    return file_content\n",
    "\n",
    "# Update HTML files\n",
    "def update_html(file_content):\n",
    "    soup = BeautifulSoup(file_content, 'html.parser')\n",
    "    for img_tag in soup.find_all('img'):\n",
    "        img_url = img_tag.get('src')\n",
    "        if img_url:\n",
    "            local_filepath = download_image(img_url)\n",
    "            img_tag['src'] = local_filepath\n",
    "    \n",
    "    return str(soup)\n",
    "\n",
    "# Modified update_file function to include a suffix for the new file\n",
    "def update_file(filepath, suffix=\"_updated\",verbose=True):\n",
    "    folder_path = os.path.dirname(filepath)\n",
    "    images_folder_path = os.path.join(folder_path, 'images')\n",
    "    original_filename = os.path.basename(filepath)\n",
    "    name, ext = os.path.splitext(original_filename)\n",
    "    new_filename = f\"{name}{suffix}{ext}\"\n",
    "    new_filepath = os.path.join(folder_path, new_filename)\n",
    "\n",
    "    # Create the images folder if it doesn't exist\n",
    "    if not os.path.exists(images_folder_path):\n",
    "        os.mkdir(images_folder_path)\n",
    "    \n",
    "    with open(filepath, 'r', encoding='utf-8') as file:\n",
    "        file_content = file.read()\n",
    "\n",
    "    # Identify file type and update accordingly\n",
    "    if filepath.endswith('.html'):\n",
    "        updated_content = update_html(file_content)\n",
    "    elif filepath.endswith('.md'):\n",
    "        updated_content = update_markdown(file_content, folder_path)  # Include folder_path\n",
    "    else:\n",
    "        print('Unsupported file type.')\n",
    "        return\n",
    "\n",
    "    # Save the updated content to a new file\n",
    "    with open(new_filepath, 'w', encoding='utf-8') as file:\n",
    "        file.write(updated_content)\n",
    "        \n",
    "    if verbose:\n",
    "        print(f\"- File updated successfully. New file saved at: {new_filepath}\")\n",
    "\n"
   ]
  },
  {
   "cell_type": "code",
   "execution_count": 15,
   "id": "89b971c6-dc4d-4c41-be69-5d9ae6771a96",
   "metadata": {
    "execution": {
     "iopub.execute_input": "2023-08-27T01:11:22.164890Z",
     "iopub.status.busy": "2023-08-27T01:11:22.164678Z",
     "iopub.status.idle": "2023-08-27T01:11:22.167754Z",
     "shell.execute_reply": "2023-08-27T01:11:22.167008Z",
     "shell.execute_reply.started": "2023-08-27T01:11:22.164879Z"
    }
   },
   "outputs": [],
   "source": [
    "# # Example usage\n",
    "# update_file('example.html')\n",
    "# update_file('example.md')"
   ]
  },
  {
   "cell_type": "code",
   "execution_count": 16,
   "id": "c86d6388-b447-45e5-9833-babcc9ebb3dd",
   "metadata": {
    "execution": {
     "iopub.execute_input": "2023-08-27T01:11:22.169517Z",
     "iopub.status.busy": "2023-08-27T01:11:22.169045Z",
     "iopub.status.idle": "2023-08-27T01:11:22.175921Z",
     "shell.execute_reply": "2023-08-27T01:11:22.175257Z",
     "shell.execute_reply.started": "2023-08-27T01:11:22.169501Z"
    }
   },
   "outputs": [
    {
     "data": {
      "text/plain": [
       "['Installation Overview-v23.md',\n",
       " 'Instructions-updating-dojo-env-v23.md',\n",
       " 'instructions-mac-intel-v23.md',\n",
       " 'instructions-mac-mchip-v23.md',\n",
       " 'instructions-windows-v23.md']"
      ]
     },
     "execution_count": 16,
     "metadata": {},
     "output_type": "execute_result"
    }
   ],
   "source": [
    "import glob\n",
    "files = sorted(glob.glob(\"*23*.md\"))\n",
    "files = list(filter(lambda x: '_repo' not in x.lower(),files))\n",
    "# files = [f for f in files in \"updated\" not in x.lower()]]\n",
    "files "
   ]
  },
  {
   "cell_type": "code",
   "execution_count": 17,
   "id": "75afa923-4b1d-4228-8d66-a25d1723ea23",
   "metadata": {
    "execution": {
     "iopub.execute_input": "2023-08-27T01:11:22.179421Z",
     "iopub.status.busy": "2023-08-27T01:11:22.178687Z",
     "iopub.status.idle": "2023-08-27T01:11:22.182962Z",
     "shell.execute_reply": "2023-08-27T01:11:22.181851Z",
     "shell.execute_reply.started": "2023-08-27T01:11:22.179392Z"
    },
    "scrolled": true
   },
   "outputs": [],
   "source": [
    "# filepath = files[0]\n",
    "# filepath"
   ]
  },
  {
   "cell_type": "code",
   "execution_count": 18,
   "id": "f6c050dd-2f47-479d-b570-38838602d620",
   "metadata": {
    "execution": {
     "iopub.execute_input": "2023-08-27T01:11:22.184160Z",
     "iopub.status.busy": "2023-08-27T01:11:22.184018Z",
     "iopub.status.idle": "2023-08-27T01:11:22.187876Z",
     "shell.execute_reply": "2023-08-27T01:11:22.187264Z",
     "shell.execute_reply.started": "2023-08-27T01:11:22.184149Z"
    }
   },
   "outputs": [],
   "source": [
    "# filepath = \"Installation Overview-v23.md\"\n",
    "# update_file(filepath)"
   ]
  },
  {
   "cell_type": "code",
   "execution_count": 19,
   "id": "74d1cd7b-7500-49e9-bff3-e796c2668caf",
   "metadata": {
    "execution": {
     "iopub.execute_input": "2023-08-27T01:11:22.188630Z",
     "iopub.status.busy": "2023-08-27T01:11:22.188495Z",
     "iopub.status.idle": "2023-08-27T01:11:22.216398Z",
     "shell.execute_reply": "2023-08-27T01:11:22.215671Z",
     "shell.execute_reply.started": "2023-08-27T01:11:22.188619Z"
    }
   },
   "outputs": [
    {
     "name": "stdout",
     "output_type": "stream",
     "text": [
      "- File updated successfully. New file saved at: Installation Overview-v23_Repo.md\n",
      "- File updated successfully. New file saved at: Instructions-updating-dojo-env-v23_Repo.md\n",
      "- File updated successfully. New file saved at: instructions-mac-intel-v23_Repo.md\n",
      "- File updated successfully. New file saved at: instructions-mac-mchip-v23_Repo.md\n",
      "- File updated successfully. New file saved at: instructions-windows-v23_Repo.md\n"
     ]
    }
   ],
   "source": [
    "for filepath in files:\n",
    "    update_file(filepath, suffix='_Repo')"
   ]
  },
  {
   "cell_type": "code",
   "execution_count": 20,
   "id": "878e1e3b-c60e-4104-b45e-5162d1af837a",
   "metadata": {
    "execution": {
     "iopub.execute_input": "2023-08-27T01:11:22.220459Z",
     "iopub.status.busy": "2023-08-27T01:11:22.220064Z",
     "iopub.status.idle": "2023-08-27T01:11:22.222944Z",
     "shell.execute_reply": "2023-08-27T01:11:22.222227Z",
     "shell.execute_reply.started": "2023-08-27T01:11:22.220441Z"
    }
   },
   "outputs": [],
   "source": [
    "# # Testing naming\n",
    "# filepath_no_ext, ext = os.path.splitext(filepath)\n",
    "# filepath_out_suffix='-Final'\n",
    "# filepath_out = f\"{filepath_no_ext}{filepath_out_suffix}{ext}\"\n",
    "# filepath_out"
   ]
  },
  {
   "cell_type": "code",
   "execution_count": null,
   "id": "364f385c-ee02-419d-be3a-5cf682e4c260",
   "metadata": {},
   "outputs": [],
   "source": []
  },
  {
   "cell_type": "code",
   "execution_count": null,
   "id": "decaba8e-06db-467e-bb48-1a1ec8a7c177",
   "metadata": {},
   "outputs": [],
   "source": []
  },
  {
   "cell_type": "code",
   "execution_count": 21,
   "id": "a9d6204d-fe46-4bb0-b2c0-6785b688b638",
   "metadata": {
    "execution": {
     "iopub.execute_input": "2023-08-27T01:11:22.223813Z",
     "iopub.status.busy": "2023-08-27T01:11:22.223647Z",
     "iopub.status.idle": "2023-08-27T01:11:22.226601Z",
     "shell.execute_reply": "2023-08-27T01:11:22.225920Z",
     "shell.execute_reply.started": "2023-08-27T01:11:22.223801Z"
    }
   },
   "outputs": [],
   "source": [
    "# update_file(file)"
   ]
  },
  {
   "cell_type": "code",
   "execution_count": null,
   "id": "718ab1fe-1d01-4b1f-8b3b-d994f0fb9143",
   "metadata": {},
   "outputs": [],
   "source": []
  }
 ],
 "metadata": {
  "kernelspec": {
   "display_name": "Python (dojo-env)",
   "language": "python",
   "name": "dojo-env"
  },
  "language_info": {
   "codemirror_mode": {
    "name": "ipython",
    "version": 3
   },
   "file_extension": ".py",
   "mimetype": "text/x-python",
   "name": "python",
   "nbconvert_exporter": "python",
   "pygments_lexer": "ipython3",
   "version": "3.10.10"
  },
  "widgets": {
   "application/vnd.jupyter.widget-state+json": {
    "state": {},
    "version_major": 2,
    "version_minor": 0
   }
  }
 },
 "nbformat": 4,
 "nbformat_minor": 5
}
