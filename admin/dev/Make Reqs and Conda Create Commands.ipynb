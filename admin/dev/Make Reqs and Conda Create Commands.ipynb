{
 "cells": [
  {
   "attachments": {},
   "cell_type": "markdown",
   "metadata": {},
   "source": [
    "# Make Requirements.txt File and Conda Create Commands for Dojo-Env"
   ]
  },
  {
   "attachments": {},
   "cell_type": "markdown",
   "metadata": {},
   "source": [
    "- 04/13/23\n",
    "- Updated 08/08/23\n"
   ]
  },
  {
   "attachments": {},
   "cell_type": "markdown",
   "metadata": {},
   "source": [
    "## Requirements"
   ]
  },
  {
   "attachments": {},
   "cell_type": "markdown",
   "metadata": {},
   "source": [
    "- Change the packages included in the code cell below.\n",
    "- it will save the reqs as \"requirements-from-notebook.txt\""
   ]
  },
  {
   "cell_type": "code",
   "execution_count": 2,
   "metadata": {},
   "outputs": [],
   "source": [
    "REQS_FNAME_OUT = \"requirements-from-notebook.txt\"\n",
    "PYTHON_VERS = \"3.10.10\"\n",
    "STARTER_ENV_NAME = 'dojo-env-ds-STARTER' # change in .yml file after creation (changed in export command below)\n",
    "FINAL_ENV_NAME = \"dojo-env\"# # ENV_NAME = 'dojo-env-ds' # 'dojo-env-da'\n"
   ]
  },
  {
   "cell_type": "markdown",
   "metadata": {},
   "source": [
    "Elements of a .yml file\n",
    "```\n",
    "name: ENV_NAME\n",
    "channels:\n",
    "    - plotly\n",
    "    - defaults\n",
    "    - conda-forge\n",
    "dependencies: # conda dependencies\n",
    "    - package=version\n",
    "    \n",
    "    - pip: # pip dependencies\n",
    "        - pypi-package==version\n",
    "        - ppypi-package=<version\n",
    "```"
   ]
  },
  {
   "cell_type": "markdown",
   "metadata": {},
   "source": [
    "## Updating/Verifying workflow (08/08/23)"
   ]
  },
  {
   "cell_type": "markdown",
   "metadata": {},
   "source": [
    "- Separate requirements into conda packages and pip packages "
   ]
  },
  {
   "cell_type": "code",
   "execution_count": null,
   "metadata": {},
   "outputs": [],
   "source": [
    "requirements_channels = \"\"\"\n",
    "plotly\n",
    "defaults\n",
    "conda-forge\n",
    "\"\"\"\n",
    "\n",
    "requirements_conda_shared = f\"\"\"\n",
    "jupyter=1.0.0\n",
    "scikit-learn=1.2.2\n",
    "scikit-image=0.20.2\n",
    "conda-forge::notebook=7.0.1\n",
    "imbalanced-learn=0.11.0\n",
    "jupyterlab=4.0.3\n",
    "jupyterlab_code_formatter=2.2.1\n",
    "\"\"\""
   ]
  },
  {
   "cell_type": "code",
   "execution_count": null,
   "metadata": {},
   "outputs": [],
   "source": [
    "requirements_conda_mac_mchip =\"\"\"\n",
    "\"\"\"\n",
    "\n",
    "requirements_conda_mac_intel = \"\"\"\n",
    "\"\"\"\n",
    "\n",
    "requirements_conda_windows = \"\"\"\n",
    "\"\"\""
   ]
  },
  {
   "cell_type": "code",
   "execution_count": null,
   "metadata": {},
   "outputs": [],
   "source": [
    "requirements_pip_shared = f\"\"\"\n",
    "scikeras==0.11.0\n",
    "tzlocal==5.0.1\n",
    "yellowbrick==1.5\n",
    "yfinance==0.2.18\n",
    "tensorboard==2.12.3\n",
    "\"\"\"\n",
    "\n",
    "requirements_pip_mac_mchip = f\"\"\"\n",
    "tensorflow-macos==2.12.0\n",
    "tensorflow-estimator==2.12.0\n",
    "tensorflow-metal==0.8.0\n",
    "\"\"\"\n",
    "\n",
    "## INTEL NEEDS UPDATING TO MATCH(08/08/23)\n",
    "requirements_pip_mac_intel = f\"\"\"\n",
    "tensorflow==2.11.0\n",
    "tensorflow-io-gcs-filesystem==0.28.0\n",
    "\"\"\"\n",
    "\n",
    "requirements_pip_windows = f\"\"\"\n",
    "tensorflow==2.12.0\n",
    "tensorflow-estimator==2.12.0\n",
    "tensorflow-intel==2.12.0\n",
    "tensorflow-io-gcs-filesystem==0.31.0\n",
    "\"\"\""
   ]
  },
  {
   "cell_type": "markdown",
   "metadata": {},
   "source": [
    "#### To Do:\n",
    "- Update tensorflow and tensorlfow-io-gcs-filesystem for mac intel to match newest versions.\n",
    "\t- Does tensorlfow-intel work on intel macs?\n"
   ]
  },
  {
   "cell_type": "code",
   "execution_count": null,
   "metadata": {},
   "outputs": [],
   "source": []
  },
  {
   "cell_type": "markdown",
   "metadata": {},
   "source": [
    "## Previous Below"
   ]
  },
  {
   "cell_type": "code",
   "execution_count": null,
   "metadata": {},
   "outputs": [],
   "source": [
    "#python={PYTHON_VERS}\n",
    "# jupyter==1.0.0\n",
    "requirements = f\"\"\"\n",
    "jupyter==1.0.0\n",
    "scikit-learn==1.2.2\n",
    "matplotlib==3.7.1\n",
    "pandas==1.5.3\n",
    "statsmodels==0.13.5\n",
    "pmdarima==2.0.3\n",
    "pandas-datareader==0.10.0\n",
    "seaborn==0.12.2\n",
    "scipy==1.10.1\n",
    "pymysql==1.0.3\n",
    "sqlalchemy==2.0.9\n",
    "sqlalchemy-utils==0.41.1\n",
    "beautifulsoup4==4.12.2\n",
    "conda-forge::tabulate==0.9.0\n",
    "conda-forge::xlsxwriter==3.1.1\n",
    "conda-forge::dataframe_image==0.1.1\n",
    "nltk==3.8.1\n",
    "wordcloud==1.8.2.2\n",
    "gensim==4.3.1\n",
    "#conda-forge::spacy\n",
    "conda-forge::lime==0.2.0.1\n",
    "conda-forge::imbalanced-learn==0.10.1\n",
    "conda-forge::shap==0.41.0\n",
    "conda-forge:numba==0.56.4\n",
    "conda-forge::joblib==1.1.1\n",
    "conda-forge::py-xgboost==1.7.4\n",
    "conda-forge::lightgbm==3.3.5\n",
    "plotly::plotly==5.14.1\n",
    "conda-forge::tornado==6.3.2\n",
    "numpy==1.23.4\n",
    "\"\"\"\n",
    "\n",
    "with open(REQS_FNAME_OUT,\"w\") as f:\n",
    "\tf.write(requirements)\n"
   ]
  },
  {
   "cell_type": "code",
   "execution_count": 4,
   "metadata": {},
   "outputs": [
    {
     "data": {
      "text/plain": [
       "['\\n',\n",
       " 'jupyter==1.0.0\\n',\n",
       " 'scikit-learn==1.2.2\\n',\n",
       " 'matplotlib==3.7.1\\n',\n",
       " 'pandas==1.5.3\\n',\n",
       " 'statsmodels==0.13.5\\n',\n",
       " 'pmdarima==2.0.3\\n',\n",
       " 'pandas-datareader==0.10.0\\n',\n",
       " 'seaborn==0.12.2\\n',\n",
       " 'scipy==1.10.1\\n',\n",
       " 'pymysql==1.0.3\\n',\n",
       " 'sqlalchemy==2.0.9\\n',\n",
       " 'sqlalchemy-utils==0.41.1\\n',\n",
       " 'beautifulsoup4==4.12.2\\n',\n",
       " 'conda-forge::tabulate==0.9.0\\n',\n",
       " 'conda-forge::xlsxwriter==3.1.1\\n',\n",
       " 'conda-forge::dataframe_image==0.1.1\\n',\n",
       " 'nltk==3.8.1\\n',\n",
       " 'wordcloud==1.8.2.2\\n',\n",
       " 'gensim==4.3.1\\n',\n",
       " '#conda-forge::spacy\\n',\n",
       " 'conda-forge::lime==0.2.0.1\\n',\n",
       " 'conda-forge::imbalanced-learn==0.10.1\\n',\n",
       " 'conda-forge::shap==0.41.0\\n',\n",
       " 'conda-forge:numba==0.56.4\\n',\n",
       " 'conda-forge::joblib==1.1.1\\n',\n",
       " 'conda-forge::py-xgboost==1.7.4\\n',\n",
       " 'conda-forge::lightgbm==3.3.5\\n',\n",
       " 'plotly::plotly==5.14.1\\n',\n",
       " 'conda-forge::tornado==6.3.2\\n',\n",
       " 'numpy==1.23.4\\n']"
      ]
     },
     "execution_count": 4,
     "metadata": {},
     "output_type": "execute_result"
    }
   ],
   "source": [
    "# SPECIFY FILE WITH REQUIREMENTS\n",
    "# REQS_FILE = 'requirements-py39.txt'\n",
    "REQS_FILE = REQS_FNAME_OUT#\"requirements-04-2023.txt\"\n",
    "with open(REQS_FILE) as f:\n",
    "\tpkgs = f.readlines()\n",
    "pkgs"
   ]
  },
  {
   "cell_type": "code",
   "execution_count": 5,
   "metadata": {},
   "outputs": [
    {
     "data": {
      "text/plain": [
       "'jupyter=1.0.0\\nscikit-learn=1.2.2\\nmatplotlib=3.7.1\\npandas=1.5.3\\nstatsmodels=0.13.5\\npmdarima=2.0.3\\npandas-datareader=0.10.0\\nseaborn=0.12.2\\nscipy=1.10.1\\npymysql=1.0.3\\nsqlalchemy=2.0.9\\nsqlalchemy-utils=0.41.1\\nbeautifulsoup4=4.12.2\\nconda-forge::tabulate=0.9.0\\nconda-forge::xlsxwriter=3.1.1\\nconda-forge::dataframe_image=0.1.1\\nnltk=3.8.1\\nwordcloud=1.8.2.2\\ngensim=4.3.1\\nconda-forge::lime=0.2.0.1\\nconda-forge::imbalanced-learn=0.10.1\\nconda-forge::shap=0.41.0\\nconda-forge:numba=0.56.4\\nconda-forge::joblib=1.1.1\\nconda-forge::py-xgboost=1.7.4\\nconda-forge::lightgbm=3.3.5\\nplotly::plotly=5.14.1\\nconda-forge::tornado=6.3.2\\nnumpy=1.23.4\\n'"
      ]
     },
     "execution_count": 5,
     "metadata": {},
     "output_type": "execute_result"
    }
   ],
   "source": [
    "# only keep real package names\n",
    "real_pkgs = [p for p in pkgs if p.startswith(\"#\")==False]\n",
    "real_pkgs = [p.replace('==','=') for p in real_pkgs if p != \"\\n\"]\n",
    "\n",
    "# real_pkgs.append('numpy==1.23.4')\n",
    "\n",
    "\n",
    "final_pkgs = '\\n'.join(real_pkgs)\n",
    "final_pkgs = final_pkgs.replace(\"\\n\\n\",\"\\n\")\n",
    "final_pkgs"
   ]
  },
  {
   "attachments": {},
   "cell_type": "markdown",
   "metadata": {},
   "source": [
    "### Conda Create Command - with Versions"
   ]
  },
  {
   "cell_type": "code",
   "execution_count": 6,
   "metadata": {},
   "outputs": [
    {
     "name": "stdout",
     "output_type": "stream",
     "text": [
      "conda create -n dojo-env-ds-STARTER python=3.10.10 jupyter=1.0.0 scikit-learn=1.2.2 matplotlib=3.7.1 pandas=1.5.3 statsmodels=0.13.5 pmdarima=2.0.3 pandas-datareader=0.10.0 seaborn=0.12.2 scipy=1.10.1 pymysql=1.0.3 sqlalchemy=2.0.9 sqlalchemy-utils=0.41.1 beautifulsoup4=4.12.2 conda-forge::tabulate=0.9.0 conda-forge::xlsxwriter=3.1.1 conda-forge::dataframe_image=0.1.1 nltk=3.8.1 wordcloud=1.8.2.2 gensim=4.3.1 conda-forge::lime=0.2.0.1 conda-forge::imbalanced-learn=0.10.1 conda-forge::shap=0.41.0 conda-forge:numba=0.56.4 conda-forge::joblib=1.1.1 conda-forge::py-xgboost=1.7.4 conda-forge::lightgbm=3.3.5 plotly::plotly=5.14.1 conda-forge::tornado=6.3.2 numpy=1.23.4 \n"
     ]
    }
   ],
   "source": [
    "# Code from make_conda_create_commands.py\n",
    "import os\n",
    "command =f\"conda create -n {STARTER_ENV_NAME} python={PYTHON_VERS} \"\n",
    "command+= final_pkgs.replace('\\n',' ')\n",
    "\n",
    "\n",
    "print(command)"
   ]
  },
  {
   "cell_type": "code",
   "execution_count": 7,
   "metadata": {},
   "outputs": [
    {
     "name": "stdout",
     "output_type": "stream",
     "text": [
      "\n",
      "\n",
      "conda activate dojo-env-ds-STARTER\n",
      "python -m ipykernel install --user --name dojo-env-ds-STARTER --display-name \"Python (dojo-env-ds-STARTER)\"\n",
      "\n",
      "\n",
      "\n"
     ]
    }
   ],
   "source": [
    "# Conda activate commands\n",
    "activate = f\"\"\"\\n\\nconda activate {STARTER_ENV_NAME}\n",
    "python -m ipykernel install --user --name {STARTER_ENV_NAME} --display-name \"Python ({STARTER_ENV_NAME})\"\\n\\n\n",
    "\"\"\"\n",
    "print(activate)\n"
   ]
  },
  {
   "attachments": {},
   "cell_type": "markdown",
   "metadata": {},
   "source": [
    "### Additional Manual Installations "
   ]
  },
  {
   "attachments": {},
   "cell_type": "markdown",
   "metadata": {},
   "source": [
    "### Windows\n",
    " ```\n",
    "conda install conda-forge::py-xgboost\n",
    "pip install lightgbm\n",
    "conda install plotly::plotly=5.14.1\n",
    "pip install tensorflow\n",
    "pip install yfinance\n",
    "```"
   ]
  },
  {
   "attachments": {},
   "cell_type": "markdown",
   "metadata": {},
   "source": [
    "### Mac"
   ]
  },
  {
   "attachments": {},
   "cell_type": "markdown",
   "metadata": {},
   "source": [
    "- Optional Pandas Dependencies\n",
    "```bash\n",
    "# pip install XlsxWriter \n",
    "# conda install conda-forge::pytables\n",
    "# conda install pyarrow\n",
    "```\n",
    "\n",
    "- Additional Packages:\n",
    "```bash\n",
    "conda install conda-forge::py-xgboost\n",
    "conda install conda-forge::lightgbm\n",
    "pip install yfinance\n",
    "conda install plotly::plotly=5.14.1\n",
    "\n",
    "```"
   ]
  },
  {
   "attachments": {},
   "cell_type": "markdown",
   "metadata": {},
   "source": [
    "- Confirm jupyter boots and that the tester notebook runs. \n",
    "\t- If so, export to a .yml (with no builds)"
   ]
  },
  {
   "attachments": {},
   "cell_type": "markdown",
   "metadata": {},
   "source": [
    "### Export Commands"
   ]
  },
  {
   "cell_type": "code",
   "execution_count": 9,
   "metadata": {},
   "outputs": [
    {
     "name": "stdout",
     "output_type": "stream",
     "text": [
      "conda env export -f  environment-ds_windows.yml --no-builds\n"
     ]
    }
   ],
   "source": [
    "print(f\"conda env export -f  environment-ds_windows.yml --no-builds\")"
   ]
  },
  {
   "cell_type": "code",
   "execution_count": 7,
   "metadata": {},
   "outputs": [
    {
     "name": "stdout",
     "output_type": "stream",
     "text": [
      "conda env export -f  environment-ds_mac_mchip.yml --name dojo-env-ds --no-builds\n"
     ]
    }
   ],
   "source": [
    "print(f\"conda env export -f  environment-ds_mac_mchip.yml --no-builds\")"
   ]
  },
  {
   "attachments": {},
   "cell_type": "markdown",
   "metadata": {},
   "source": [
    "```bash\n",
    "conda env export -f  environment-ds_mac_mchip.yml -name {ENV_NAME} --no-builds\n",
    "```"
   ]
  },
  {
   "attachments": {},
   "cell_type": "markdown",
   "metadata": {},
   "source": [
    "> NOTE: you must rename the env in the .yml file to \"dojo-env-ds\" manually"
   ]
  },
  {
   "cell_type": "code",
   "execution_count": 8,
   "metadata": {},
   "outputs": [
    {
     "name": "stdout",
     "output_type": "stream",
     "text": [
      "\n",
      "\n",
      "conda activate dojo-env-ds\n",
      "python -m ipykernel install --user --name dojo-env-ds --display-name \"Python (dojo-env-ds)\"\n",
      "\n",
      "\n",
      "\n"
     ]
    }
   ],
   "source": [
    "# Conda activate commands\n",
    "activate = f\"\"\"\\n\\nconda activate {FINAL_ENV_NAME}\n",
    "python -m ipykernel install --user --name {FINAL_ENV_NAME} --display-name \"Python ({FINAL_ENV_NAME})\"\\n\\n\n",
    "\"\"\"\n",
    "print(activate)\n"
   ]
  },
  {
   "attachments": {},
   "cell_type": "markdown",
   "metadata": {},
   "source": [
    "### Conda Create Command - No Versions"
   ]
  },
  {
   "cell_type": "code",
   "execution_count": 151,
   "metadata": {},
   "outputs": [],
   "source": [
    "## make a version without version numbers\n",
    "\n",
    "pkgs_no_versions = []\n",
    "for pkg_ in real_pkgs:\n",
    "\tif '==' in pkg_:\n",
    "\t\tpkg_only = pkg_.split(\"==\")[0]\n",
    "\telif \">=\" in pkg_:\n",
    "\t\tpkg_only = pkg_.split(\">=\")[0]\n",
    "\telif \"<=\" in pkg_:\n",
    "\t\tpkg_only = pkg_.split(\"<=\")[0]\n",
    "\telse:\n",
    "\t\tpkg_only = pkg_\n",
    "\tif '\"' in pkg_only:\n",
    "\t\tpkg_only = pkg_only.replace('\"','')\n",
    "\tpkgs_no_versions.append(pkg_only)\n"
   ]
  },
  {
   "cell_type": "code",
   "execution_count": 152,
   "metadata": {},
   "outputs": [
    {
     "data": {
      "text/plain": [
       "'jupyter\\nscikit-learn\\npandas\\nscipy\\nmatplotlib\\nseaborn\\npmdarima\\nstatsmodels\\npymysql\\nsqlalchemy\\nsqlalchemy-utils\\nconda-forge::shap\\nconda-forge::imbalanced-learn\\nconda-forge::lime\\nxgboost\\npandas-datareader\\nbeautifulsoup4>4.10.0\\nlxml>4.8.0\\nconda-forge::lightgbm\\nplotly::plotly\\nconda-forge::tabulate\\nconda-forge::numexpr\\nopenpyxl>3.0.8\\nhtml5lib<1.2\\nconda-forge::xlsxwriter\\nconda-forge::dataframe_image\\nnltk\\nwordcloud\\ngensim\\nconda-forge::spacy\\nnumpy'"
      ]
     },
     "execution_count": 152,
     "metadata": {},
     "output_type": "execute_result"
    }
   ],
   "source": [
    "final_pkgs_no_vers = '\\n'.join(pkgs_no_versions)\n",
    "final_pkgs_no_vers = final_pkgs_no_vers.replace(\"\\n\\n\",\"\\n\")\n",
    "final_pkgs_no_vers"
   ]
  },
  {
   "cell_type": "code",
   "execution_count": 154,
   "metadata": {},
   "outputs": [
    {
     "name": "stdout",
     "output_type": "stream",
     "text": [
      "conda create -n dojo-env-ts python=3.10 jupyter scikit-learn pandas scipy matplotlib seaborn pmdarima statsmodels pymysql sqlalchemy sqlalchemy-utils conda-forge::shap conda-forge::imbalanced-learn conda-forge::lime xgboost pandas-datareader beautifulsoup4>4.10.0 lxml>4.8.0 conda-forge::lightgbm plotly::plotly conda-forge::tabulate conda-forge::numexpr openpyxl>3.0.8 html5lib<1.2 conda-forge::xlsxwriter conda-forge::dataframe_image nltk wordcloud gensim conda-forge::spacy numpy\n"
     ]
    }
   ],
   "source": [
    "# CONDA CREATE - NO VERSIONS\n",
    "# Code from make_conda_create_commands.py\n",
    "import os\n",
    "command_no_vers =f\"conda create -n {STARTER_ENV_NAME} python={PYTHON_VERS} \"\n",
    "command_no_vers+= final_pkgs_no_vers.replace('\\n',' ')\n",
    "print(command_no_vers)"
   ]
  },
  {
   "attachments": {},
   "cell_type": "markdown",
   "metadata": {},
   "source": [
    "- Copy and paste the command displayed above into your terminal."
   ]
  },
  {
   "cell_type": "code",
   "execution_count": null,
   "metadata": {},
   "outputs": [],
   "source": [
    "# Conda activate commands\n",
    "activate = f\"\"\"\\n\\nconda activate {ENV_NAME}\n",
    "python -m ipykernel install --user --name {ENV_NAME} --display-name \"Python ({ENV_NAME})\"\\n\\n\n",
    "\"\"\"\n",
    "print(activate)\n"
   ]
  },
  {
   "attachments": {},
   "cell_type": "markdown",
   "metadata": {},
   "source": [
    "### Conda Create Commands - MVP Versions"
   ]
  },
  {
   "cell_type": "code",
   "execution_count": 155,
   "metadata": {},
   "outputs": [
    {
     "name": "stdout",
     "output_type": "stream",
     "text": [
      "conda create -n dojo-env-ts python=3.10 jupyter scikit-learn==1.2.2 pandas==1.5.3 scipy matplotlib==3.7.1 seaborn==0.12.2 pmdarima==2.0.3 statsmodels==0.13.5 pymysql sqlalchemy sqlalchemy-utils conda-forge::shap==0.41.0 conda-forge::imbalanced-learn conda-forge::lime xgboost pandas-datareader==0.10.0 beautifulsoup4>4.10.0 lxml>4.8.0 conda-forge::lightgbm plotly::plotly conda-forge::tabulate conda-forge::numexpr openpyxl>3.0.8 html5lib<1.2 conda-forge::xlsxwriter conda-forge::dataframe_image nltk wordcloud gensim conda-forge::spacy numpy==1.23.4 numpy==1.23.4\n"
     ]
    }
   ],
   "source": [
    "# CONDA CREATE - MVP VERSIONS\n",
    "versions = {\"scikit-learn\":\"==1.2.2\",\n",
    "\"matplotlib\":\"==3.7.1\",\n",
    "'pandas':'==1.5.3',\n",
    "'statsmodels':'==0.13.5',\n",
    "'pmdarima':'==2.0.3',\n",
    "'pandas-datareader':'==0.10.0',\n",
    "'numpy':'==1.23.4',\n",
    "\"conda-forge::shap\":'==0.41.0',\n",
    "'seaborn':'==0.12.2',\n",
    "}\n",
    "\n",
    "split_no_vers = command_no_vers.split()\n",
    "final_mvp_pkgs = []\n",
    "for line in split_no_vers:\n",
    "\t\n",
    "\tif line in versions.keys():\n",
    "\t\tvers_num = versions[line]\n",
    "\t\tfinal_line = line+vers_num\n",
    "\t\t\n",
    "\telse:\n",
    "\t\tfinal_line = line\n",
    "\tfinal_mvp_pkgs.append(final_line)\n",
    "\n",
    "# 05/23/23\n",
    "final_mvp_pkgs.append('numpy==1.23.4')\n",
    "\t\n",
    "command_mvp_versions = ' '.join(final_mvp_pkgs)\n",
    "\t\t\t\n",
    "print(command_mvp_versions)"
   ]
  },
  {
   "cell_type": "code",
   "execution_count": null,
   "metadata": {},
   "outputs": [],
   "source": [
    "# Conda activate commands\n",
    "activate = f\"\"\"\\n\\nconda activate {ENV_NAME}\n",
    "python -m ipykernel install --user --name {ENV_NAME} --display-name \"Python ({ENV_NAME})\"\\n\\n\n",
    "\"\"\"\n",
    "print(activate)\n"
   ]
  },
  {
   "cell_type": "code",
   "execution_count": null,
   "metadata": {},
   "outputs": [],
   "source": []
  },
  {
   "cell_type": "code",
   "execution_count": null,
   "metadata": {},
   "outputs": [],
   "source": []
  },
  {
   "cell_type": "code",
   "execution_count": 156,
   "metadata": {},
   "outputs": [
    {
     "name": "stdout",
     "output_type": "stream",
     "text": [
      "\n",
      "\n",
      "conda activate dojo-env-ts\n",
      "python -m ipykernel install --user --name dojo-env-ts --display-name \"Python (dojo-env-ts)\"\n",
      "\n",
      "\n",
      "\n"
     ]
    }
   ],
   "source": [
    "# Conda activate commands\n",
    "activate = f\"\"\"\\n\\nconda activate {ENV_NAME}\n",
    "python -m ipykernel install --user --name {ENV_NAME} --display-name \"Python ({ENV_NAME})\"\\n\\n\n",
    "\"\"\"\n",
    "print(activate)\n"
   ]
  },
  {
   "attachments": {},
   "cell_type": "markdown",
   "metadata": {},
   "source": [
    "## [WIP] Follow-Up Installation Commands"
   ]
  },
  {
   "cell_type": "code",
   "execution_count": 87,
   "metadata": {},
   "outputs": [
    {
     "name": "stdout",
     "output_type": "stream",
     "text": [
      "pip install jupyter_contrib_nbextensions\n",
      "jupyter contrib nbextension install --user\n",
      "\n",
      "\n",
      "\n"
     ]
    }
   ],
   "source": [
    "# nbextensions command\n",
    "pip_reqs = \"\"\"pip install jupyter_contrib_nbextensions\n",
    "jupyter contrib nbextension install --user\\n\\n\n",
    "\"\"\"\n",
    "print(pip_reqs)"
   ]
  },
  {
   "cell_type": "code",
   "execution_count": 31,
   "metadata": {},
   "outputs": [
    {
     "name": "stdout",
     "output_type": "stream",
     "text": [
      "## MAC COMPUTERS - APPLE CHIP:\n",
      "conda create -n dojo-env-ts python=3.10 jupyter scikit-learn==1.2.2 pandas==1.5.3 scipy==1.10.1 matplotlib==3.7.1 seaborn==0.12.2 plotly::plotly==5.13.1 pmdarima==2.0.3 statsmodels==0.13.5 pymysql==1.0.3 sqlalchemy==2.0.9 \"sqlalchemy-utils<=0.41.0\" conda-forge::shap==0.41.0 conda-forge::imbalanced-learn==0.10.1 lime xgboost==\"1.7.*\" pandas-datareader==0.10.0 beautifulsoup4 lxml conda-forge::lightgbm==3.3.5 conda-forge::tabulate numexpr openpyxl html5lib conda-forge::xlsxwriter conda-forge::dataframe_image nltk==3.8.1 wordcloud==1.8.2.2 gensim==4.3.1 spacy \n",
      "\n",
      "conda activate dojo-env-ts\n",
      "python -m ipykernel install --user --name dojo-env-ts --display-name \"Python (dojo-env-ts)\"\n",
      "\n",
      "\n",
      "pip install jupyter_contrib_nbextensions\n",
      "jupyter contrib nbextension install --user\n",
      "\n",
      "\n",
      "pip install tensorflow-macos\n",
      "pip install tensorflow-metal\n",
      "\n"
     ]
    }
   ],
   "source": [
    "## Add Mac-M1\n",
    "mac_command = command + activate + pip_reqs\n",
    "mac_command += \"pip install tensorflow-macos\\n\"\n",
    "mac_command += \"pip install tensorflow-metal\\n\"\n",
    "print(\"## MAC COMPUTERS - APPLE CHIP:\")\n",
    "print(mac_command)"
   ]
  },
  {
   "cell_type": "code",
   "execution_count": 36,
   "metadata": {},
   "outputs": [
    {
     "name": "stdout",
     "output_type": "stream",
     "text": [
      "conda create -n dojo-env-nlp python=3.9 jupyter  scikit-learn==1.2.2  pandas==1.5.3    scipy==1.10.1  matplotlib==3.7.1  seaborn==0.12.2  plotly==5.13.1    pmdarima==2.0.3  statsmodels==0.13.5  pymysql==1.0.3    sqlalchemy==2.0.9  \"sqlalchemy-utils<=0.41.0\"  conda-forge::shap==0.41.0  conda-forge::imbalanced-learn==0.10.1  lime  xgboost=='1.7.*'  pandas-datareader==0.10.0  beautifulsoup4  lxml  conda-forge::lightgbm==3.3.5    conda-forge::tabulate  numexpr  openpyxl    html5lib  conda-forge::nbdime  conda-forge::xlsxwriter  conda-forge::dataframe_image    nltk==3.8.1  wordcloud==1.8.2.2  gensim==4.3.1 \n",
      "\n",
      "conda activate dojo-env-nlp\n",
      "python -m ipykernel install --user --name dojo-env-nlp --display-name \"Python (dojo-env-nlp)\"\n",
      "\n",
      "\n",
      "pip install jupyter_contrib_nbextensions\n",
      "jupyter contrib nbextension install --user\n",
      "\n",
      "\n",
      "pip install tensorflow\n"
     ]
    }
   ],
   "source": [
    "## Add Mac-intel\n",
    "mac_intel_command = command + activate + pip_reqs\n",
    "mac_intel_command += \"pip install tensorflow\"\n",
    "print(mac_intel_command)"
   ]
  },
  {
   "cell_type": "code",
   "execution_count": null,
   "metadata": {},
   "outputs": [],
   "source": [
    "\n",
    "\n",
    "## add windows - conda\n",
    "windows_conda_cmd = command + \" tensorflow \" + activate + pip_reqs\n",
    "# print(windows_conda_cmd)\n",
    "\n",
    "\n",
    "## add windows -source \n",
    "windows_source_cmd = command + \" tensorflow \" + activate.replace('conda','source')  + pip_reqs\n",
    "# print(windows_source_cmd)"
   ]
  },
  {
   "attachments": {},
   "cell_type": "markdown",
   "metadata": {},
   "source": [
    "## Analyst MVP Version"
   ]
  },
  {
   "cell_type": "code",
   "execution_count": null,
   "metadata": {},
   "outputs": [],
   "source": []
  },
  {
   "cell_type": "code",
   "execution_count": null,
   "metadata": {},
   "outputs": [],
   "source": []
  }
 ],
 "metadata": {
  "kernelspec": {
   "display_name": "base",
   "language": "python",
   "name": "python3"
  },
  "language_info": {
   "codemirror_mode": {
    "name": "ipython",
    "version": 3
   },
   "file_extension": ".py",
   "mimetype": "text/x-python",
   "name": "python",
   "nbconvert_exporter": "python",
   "pygments_lexer": "ipython3",
   "version": "3.9.13"
  },
  "orig_nbformat": 4,
  "vscode": {
   "interpreter": {
    "hash": "594cbcb53b7eb24b01ad1ace3292a9583de43e996a12a214afbcf4f5a5715dd8"
   }
  }
 },
 "nbformat": 4,
 "nbformat_minor": 2
}
