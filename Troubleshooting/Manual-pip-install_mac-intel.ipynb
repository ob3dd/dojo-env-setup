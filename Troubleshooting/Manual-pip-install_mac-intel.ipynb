{
 "cells": [
  {
   "cell_type": "markdown",
   "id": "0ae7b0da-5c9f-4a81-8ca6-5b284ae32214",
   "metadata": {},
   "source": [
    "# Mac - Intel Processor"
   ]
  },
  {
   "cell_type": "markdown",
   "id": "d35d9e78-7e64-4924-9c68-773117ee42de",
   "metadata": {},
   "source": [
    "> Note: make sure the notebook says \"Python(dojo-env)\" on the top right of jupyter, right below the logout buton.\n",
    "\n",
    "* Run this full notebook and take note of where you receive an error.\n",
    "\n",
    "* If it doesn't, click on the Kernel menu > Change Kernel > Python(dojo-env).\n",
    "\n",
    "* If you receive an error, skip the cell that error'd and continuing running the cells below.\n",
    "\n",
    "* Continue until you have run all of the installation commands successfully.\n",
    "\n",
    "* Save this notebook to share with your instructor for troubleshooting."
   ]
  },
  {
   "cell_type": "code",
   "execution_count": null,
   "id": "00cf304f-fdb7-4318-b1f6-66d82c2770d0",
   "metadata": {},
   "outputs": [],
   "source": [
    "!pip install absl-py==1.4.0 --user"
   ]
  },
  {
   "cell_type": "code",
   "execution_count": null,
   "id": "ae67209f-dd27-4056-a4e2-1c86339d8e48",
   "metadata": {},
   "outputs": [],
   "source": [
    "!pip install astunparse==1.6.3 --user"
   ]
  },
  {
   "cell_type": "code",
   "execution_count": null,
   "id": "f44aa337-d694-4966-8aa2-4cf22a504fa2",
   "metadata": {},
   "outputs": [],
   "source": [
    "!pip install autopep8==2.0.2 --user"
   ]
  },
  {
   "cell_type": "code",
   "execution_count": null,
   "id": "cd568ea5-60c0-42c8-b89c-80772624cc09",
   "metadata": {},
   "outputs": [],
   "source": [
    "!pip install black==23.3.0 --user"
   ]
  },
  {
   "cell_type": "code",
   "execution_count": null,
   "id": "8e447a55-7003-49ce-90b6-35fc9b557143",
   "metadata": {},
   "outputs": [],
   "source": [
    "!pip install cachetools==5.3.0 --user"
   ]
  },
  {
   "cell_type": "code",
   "execution_count": null,
   "id": "28a8d049-38be-42b9-8dc4-69faa26ca53e",
   "metadata": {},
   "outputs": [],
   "source": [
    "!pip install collinearity==0.6.1 --user"
   ]
  },
  {
   "cell_type": "code",
   "execution_count": null,
   "id": "d637d2f4-92ef-4e00-b51e-46b154f34dfb",
   "metadata": {},
   "outputs": [],
   "source": [
    "!pip install exceptiongroup==1.1.2 --user #intel"
   ]
  },
  {
   "cell_type": "code",
   "execution_count": null,
   "id": "044a74f2-3b7f-4575-9f8e-20ee80bfe7c3",
   "metadata": {},
   "outputs": [],
   "source": [
    "!pip install flatbuffers==23.5.9 --user"
   ]
  },
  {
   "cell_type": "code",
   "execution_count": null,
   "id": "9d5ed3ee-b231-4fea-9845-4ac658551675",
   "metadata": {},
   "outputs": [],
   "source": [
    "!pip install frozendict==2.3.8 --user"
   ]
  },
  {
   "cell_type": "code",
   "execution_count": null,
   "id": "af5c7cd5-1990-47cf-87e5-18822435eaa3",
   "metadata": {},
   "outputs": [],
   "source": [
    "!pip install gast==0.4.0 --user"
   ]
  },
  {
   "cell_type": "code",
   "execution_count": null,
   "id": "5c07b2bf-46ab-44ab-89c0-7a40ed57ef0e",
   "metadata": {},
   "outputs": [],
   "source": [
    "!pip install google-auth-oauthlib==1.0.0 --user"
   ]
  },
  {
   "cell_type": "code",
   "execution_count": null,
   "id": "c5f880dc-e210-4736-8e32-8746c0b63a29",
   "metadata": {},
   "outputs": [],
   "source": [
    "!pip install google-auth==2.18.1 --user"
   ]
  },
  {
   "cell_type": "code",
   "execution_count": null,
   "id": "cfb888b7-44af-4751-9f16-1f7abd0937ff",
   "metadata": {},
   "outputs": [],
   "source": [
    "!pip install google-pasta==0.2.0 --user"
   ]
  },
  {
   "cell_type": "code",
   "execution_count": null,
   "id": "3c11eec7-9cb5-40f7-b008-0f36cbdcb752",
   "metadata": {},
   "outputs": [],
   "source": [
    "!pip install grpcio==1.49.1 --user #Downgrade from 1.54.2"
   ]
  },
  {
   "cell_type": "code",
   "execution_count": null,
   "id": "22b81470-9920-47db-8a05-ff31790ba8cc",
   "metadata": {},
   "outputs": [],
   "source": [
    "!pip install h11==0.14.0 --user"
   ]
  },
  {
   "cell_type": "code",
   "execution_count": null,
   "id": "6ec8ff5c-be63-400a-a8a2-c0a0696f3ad7",
   "metadata": {},
   "outputs": [],
   "source": [
    "!pip install h5py==3.8.0 --user"
   ]
  },
  {
   "cell_type": "code",
   "execution_count": null,
   "id": "e0b3a561-3357-4403-beba-5b9c7902603e",
   "metadata": {},
   "outputs": [],
   "source": [
    "!pip install holidays==0.25 --user"
   ]
  },
  {
   "cell_type": "code",
   "execution_count": null,
   "id": "857da37b-c17e-4e31-9dab-40e0c1d08ce8",
   "metadata": {},
   "outputs": [],
   "source": [
    "!pip install html5lib==1.1 --user"
   ]
  },
  {
   "cell_type": "code",
   "execution_count": null,
   "id": "b4682434-14b6-4761-9894-5a3e6ce22ef2",
   "metadata": {},
   "outputs": [],
   "source": [
    "!pip install isort==5.12.0 --user"
   ]
  },
  {
   "cell_type": "code",
   "execution_count": null,
   "id": "6972a692-40d1-4057-9d43-e424d6caefe2",
   "metadata": {},
   "outputs": [],
   "source": [
    "!pip install jax==0.4.10 --user"
   ]
  },
  {
   "cell_type": "code",
   "execution_count": null,
   "id": "b987577c-23dc-4563-ab6f-8591ef1f6ca0",
   "metadata": {},
   "outputs": [],
   "source": [
    "!pip install keras-cv==0.6.1 --user"
   ]
  },
  {
   "cell_type": "code",
   "execution_count": null,
   "id": "24174a10-3ebe-42d6-9a3d-21da4d8b72aa",
   "metadata": {},
   "outputs": [],
   "source": [
    "!pip install keras-tuner==1.3.5 --user"
   ]
  },
  {
   "cell_type": "code",
   "execution_count": null,
   "id": "3766e5ea-59df-4f0b-8b5f-1202dc9ac848",
   "metadata": {},
   "outputs": [],
   "source": [
    "!pip install keras==2.12.0 --user"
   ]
  },
  {
   "cell_type": "code",
   "execution_count": null,
   "id": "555d0e3d-8de8-45a9-99f1-4dc80a364188",
   "metadata": {},
   "outputs": [],
   "source": [
    "!pip install korean-lunar-calendar==0.3.1 --user"
   ]
  },
  {
   "cell_type": "code",
   "execution_count": null,
   "id": "bfd8a3bf-377c-457f-97c7-d61c988a6ee9",
   "metadata": {},
   "outputs": [],
   "source": [
    "!pip install libclang==16.0.0 --user"
   ]
  },
  {
   "cell_type": "code",
   "execution_count": null,
   "id": "4a978902-697e-494b-bbe1-6ab35dd844c5",
   "metadata": {},
   "outputs": [],
   "source": [
    "!pip install markdown==3.4.3 --user"
   ]
  },
  {
   "cell_type": "code",
   "execution_count": null,
   "id": "b0c4a5d0-e5ef-41cc-a3a8-c422e6be6189",
   "metadata": {},
   "outputs": [],
   "source": [
    "!pip install missingno==0.5.2 --user"
   ]
  },
  {
   "cell_type": "code",
   "execution_count": null,
   "id": "be7b2164-b1e7-4a49-bde4-196ab39eed8d",
   "metadata": {},
   "outputs": [],
   "source": [
    "!pip install ml-dtypes==0.1.0 --user"
   ]
  },
  {
   "cell_type": "code",
   "execution_count": null,
   "id": "0f723d19-4b7c-4290-9706-32c92e37fc9f",
   "metadata": {},
   "outputs": [],
   "source": [
    "!pip install mlxtend==0.22.0 --user"
   ]
  },
  {
   "cell_type": "code",
   "execution_count": null,
   "id": "9f0e44f3-f2a3-465e-abea-21ea60b47f96",
   "metadata": {},
   "outputs": [],
   "source": [
    "!pip install multitasking==0.0.11 --user"
   ]
  },
  {
   "cell_type": "code",
   "execution_count": null,
   "id": "665fa01c-0f06-4d96-991a-1dcdbe21c868",
   "metadata": {},
   "outputs": [],
   "source": [
    "!pip install mypy-extensions==1.0.0 --user"
   ]
  },
  {
   "cell_type": "code",
   "execution_count": null,
   "id": "c868fdf5-dfc8-4fce-830c-a4fdf49cf0ef",
   "metadata": {},
   "outputs": [],
   "source": [
    "!pip install oauthlib==3.2.2 --user"
   ]
  },
  {
   "cell_type": "code",
   "execution_count": null,
   "id": "6432c9c5-689a-48f3-9efd-f38d99a1767d",
   "metadata": {},
   "outputs": [],
   "source": [
    "!pip install opencv-python==4.8.0.74 --user"
   ]
  },
  {
   "cell_type": "code",
   "execution_count": null,
   "id": "8cec57a1-fd9b-492a-97aa-84270055147c",
   "metadata": {},
   "outputs": [],
   "source": [
    "!pip install openpyxl==3.1.2 --user"
   ]
  },
  {
   "cell_type": "code",
   "execution_count": null,
   "id": "c2289059-09ff-49fa-b07d-1b978033a1c8",
   "metadata": {},
   "outputs": [],
   "source": [
    "!pip install opt-einsum==3.3.0 --user"
   ]
  },
  {
   "cell_type": "code",
   "execution_count": null,
   "id": "0e183696-1d6f-404e-8168-11185974287d",
   "metadata": {},
   "outputs": [],
   "source": [
    "!pip install outcome==1.2.0 --user #intel"
   ]
  },
  {
   "cell_type": "code",
   "execution_count": null,
   "id": "2efb9a1d-38e0-4429-ab69-bf5e8e0d973e",
   "metadata": {},
   "outputs": [],
   "source": [
    "!pip install pathspec==0.11.1 --user"
   ]
  },
  {
   "cell_type": "code",
   "execution_count": null,
   "id": "20481dac-0e60-4b85-b077-8e3321a8e961",
   "metadata": {},
   "outputs": [],
   "source": [
    "!pip install plot-keras-history==1.1.38 --user"
   ]
  },
  {
   "cell_type": "code",
   "execution_count": null,
   "id": "e8b269d2-a0eb-4d1b-bc54-e50302eb5525",
   "metadata": {},
   "outputs": [],
   "source": [
    "!pip install protobuf==4.23.1 --user"
   ]
  },
  {
   "cell_type": "code",
   "execution_count": null,
   "id": "e2fb5ed2-b205-45b4-9262-f20bd87cb68c",
   "metadata": {},
   "outputs": [],
   "source": [
    "!pip install pyasn1-modules==0.3.0 --user"
   ]
  },
  {
   "cell_type": "code",
   "execution_count": null,
   "id": "004c7edd-28c8-4323-bd30-f4e46c426932",
   "metadata": {},
   "outputs": [],
   "source": [
    "!pip install pyasn1==0.5.0 --user"
   ]
  },
  {
   "cell_type": "code",
   "execution_count": null,
   "id": "9e518d31-d843-424e-a94a-ae62e5c54a16",
   "metadata": {},
   "outputs": [],
   "source": [
    "!pip install pycodestyle==2.10.0 --user"
   ]
  },
  {
   "cell_type": "code",
   "execution_count": null,
   "id": "71bacace-05f0-40ce-878d-a8b5d37c59e2",
   "metadata": {},
   "outputs": [],
   "source": [
    "!pip install pyqt5-sip==12.11.0 --user #Changed to pip for intel"
   ]
  },
  {
   "cell_type": "code",
   "execution_count": null,
   "id": "93b85834-d52e-4401-b199-38a9b24e06ba",
   "metadata": {},
   "outputs": [],
   "source": [
    "!pip install requests-oauthlib==1.3.1 --user"
   ]
  },
  {
   "cell_type": "code",
   "execution_count": null,
   "id": "8f9a7de2-2a5c-4875-b559-ed40ab5671f8",
   "metadata": {},
   "outputs": [],
   "source": [
    "!pip install rsa==4.9 --user"
   ]
  },
  {
   "cell_type": "code",
   "execution_count": null,
   "id": "e1c75968-e438-43c6-985f-dc252bdaa829",
   "metadata": {},
   "outputs": [],
   "source": [
    "!pip install scikeras==0.11.0 --user"
   ]
  },
  {
   "cell_type": "code",
   "execution_count": null,
   "id": "f5bef18e-5c03-49ee-b819-27f348a1991e",
   "metadata": {},
   "outputs": [],
   "source": [
    "!pip install selenium==4.10.0 --user"
   ]
  },
  {
   "cell_type": "code",
   "execution_count": null,
   "id": "d597e298-54d4-4f6d-b948-dae98fe61810",
   "metadata": {},
   "outputs": [],
   "source": [
    "!pip install sortedcontainers==2.4.0 --user"
   ]
  },
  {
   "cell_type": "code",
   "execution_count": null,
   "id": "2e2713bf-73bc-4591-86cc-6b48e2375f97",
   "metadata": {},
   "outputs": [],
   "source": [
    "!pip install tensorboard-data-server==0.7.0 --user"
   ]
  },
  {
   "cell_type": "code",
   "execution_count": null,
   "id": "e5c00836-cf60-4a50-a12a-d9fd2a37c794",
   "metadata": {},
   "outputs": [],
   "source": [
    "!pip install tensorboard==2.12.3 --user"
   ]
  },
  {
   "cell_type": "code",
   "execution_count": null,
   "id": "df6b6f24-ef59-411c-b3de-5628fd43ba31",
   "metadata": {},
   "outputs": [],
   "source": [
    "!pip install tensorflow-estimator==2.12.0 --user"
   ]
  },
  {
   "cell_type": "code",
   "execution_count": null,
   "id": "3dd5ac91-19eb-4059-9d04-848914537c96",
   "metadata": {},
   "outputs": [],
   "source": [
    "!pip install tensorflow-io-gcs-filesystem==0.31.0 --user #Intel"
   ]
  },
  {
   "cell_type": "code",
   "execution_count": null,
   "id": "a3c2b37c-8c7c-45e6-98a0-4fabb2891c16",
   "metadata": {},
   "outputs": [],
   "source": [
    "!pip install tensorflow==2.12.0 --user #Intel"
   ]
  },
  {
   "cell_type": "code",
   "execution_count": null,
   "id": "0a164c40-7756-4207-bf01-2aed8ff57dba",
   "metadata": {},
   "outputs": [],
   "source": [
    "!pip install termcolor==2.3.0 --user"
   ]
  },
  {
   "cell_type": "code",
   "execution_count": null,
   "id": "9543ac46-fa8b-410b-a716-f41191016d01",
   "metadata": {},
   "outputs": [],
   "source": [
    "!pip install trio-websocket==0.10.3 --user #intel"
   ]
  },
  {
   "cell_type": "code",
   "execution_count": null,
   "id": "4de8a5a4-f191-46dd-a045-fe53ca780569",
   "metadata": {},
   "outputs": [],
   "source": [
    "!pip install trio==0.22.2 --user #Intel"
   ]
  },
  {
   "cell_type": "code",
   "execution_count": null,
   "id": "df45c370-9677-4e46-90df-4dda4495bb68",
   "metadata": {},
   "outputs": [],
   "source": [
    "!pip install tzlocal==5.0.1 --user"
   ]
  },
  {
   "cell_type": "code",
   "execution_count": null,
   "id": "db46599d-2d05-496c-bdd0-a383f84817aa",
   "metadata": {},
   "outputs": [],
   "source": [
    "!pip install visualkeras==0.0.2 --user"
   ]
  },
  {
   "cell_type": "code",
   "execution_count": null,
   "id": "fdc8eabc-da8e-4369-97c3-270e68477d74",
   "metadata": {},
   "outputs": [],
   "source": [
    "!pip install werkzeug==2.3.4 --user"
   ]
  },
  {
   "cell_type": "code",
   "execution_count": null,
   "id": "583f6a29-08cb-4aea-a6c4-f7bc4152ceeb",
   "metadata": {},
   "outputs": [],
   "source": [
    "!pip install wrapt==1.14.1 --user"
   ]
  },
  {
   "cell_type": "code",
   "execution_count": null,
   "id": "6e70b0ec-af2c-494a-9a3f-f4e942b07fd5",
   "metadata": {},
   "outputs": [],
   "source": [
    "!pip install wsproto==1.2.0 --user #Intel"
   ]
  },
  {
   "cell_type": "code",
   "execution_count": null,
   "id": "af07501f-a26c-4939-87bf-d40268cc558f",
   "metadata": {},
   "outputs": [],
   "source": [
    "!pip install yapf==0.33.0 --user"
   ]
  },
  {
   "cell_type": "code",
   "execution_count": null,
   "id": "437b5049-c310-47d9-9a71-406765c33c0d",
   "metadata": {},
   "outputs": [],
   "source": [
    "!pip install yellowbrick==1.5 --user"
   ]
  },
  {
   "cell_type": "code",
   "execution_count": null,
   "id": "d2bc9c38-5dc7-469f-8ef0-fde518285c35",
   "metadata": {},
   "outputs": [],
   "source": [
    "!pip install yfinance==0.2.18 --user"
   ]
  }
 ],
 "metadata": {
  "kernelspec": {
   "display_name": "Python 3 (ipykernel)",
   "language": "python",
   "name": "python3"
  },
  "language_info": {
   "codemirror_mode": {
    "name": "ipython",
    "version": 3
   },
   "file_extension": ".py",
   "mimetype": "text/x-python",
   "name": "python",
   "nbconvert_exporter": "python",
   "pygments_lexer": "ipython3",
   "version": "3.10.10"
  }
 },
 "nbformat": 4,
 "nbformat_minor": 5
}
