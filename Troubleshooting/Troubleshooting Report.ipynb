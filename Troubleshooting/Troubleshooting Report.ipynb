{
 "cells": [
  {
   "cell_type": "markdown",
   "metadata": {},
   "source": [
    "# Env Troubleshooting Report"
   ]
  },
  {
   "cell_type": "markdown",
   "metadata": {},
   "source": [
    "> This notebook is a bare bones snippet from the main environment testing notebooks.\n",
    "- **Ideally, you should first open and run all of the cells in the appropriate environment tester notebook** (see list of file names below)\n",
    "- In the main folder of this repo (above this Troubleshooting folder):\n",
    "\t- \"EnvironmentTester-mac.ipynb\" \n",
    "\t- \"EnvironmentTester-windows.ipynb\"\n",
    "\t\n",
    "\n",
    "- You can also just run the first code cells in this notebook to get a barebones report about your environment.\n",
    "\n",
    "> - **You should show the output of both notebooks to your instructor or TA when troubleshooting.**\n",
    "\n",
    "\n"
   ]
  },
  {
   "cell_type": "markdown",
   "metadata": {},
   "source": [
    "### Set the Output Folder And Delete Previous .txt files"
   ]
  },
  {
   "cell_type": "code",
   "execution_count": null,
   "metadata": {},
   "outputs": [],
   "source": []
  },
  {
   "cell_type": "code",
   "execution_count": null,
   "metadata": {
    "ExecuteTime": {
     "end_time": "2022-07-03T03:55:40.386703Z",
     "start_time": "2022-07-03T03:55:39.154439Z"
    }
   },
   "outputs": [],
   "source": [
    "from IPython.display import clear_output\n",
    "try:\n",
    "    from tzlocal import get_localzone, get_localzone_name\n",
    "except:\n",
    "    !pip install tzlocal\n",
    "    from tzlocal import get_localzone, get_localzone_name\n",
    "    "
   ]
  },
  {
   "cell_type": "code",
   "execution_count": null,
   "metadata": {
    "ExecuteTime": {
     "end_time": "2022-07-03T03:55:40.393149Z",
     "start_time": "2022-07-03T03:55:40.389070Z"
    }
   },
   "outputs": [],
   "source": [
    "import os, glob, sys\n",
    "VERBOSE = False\n",
    "\n",
    "## Saving kernel's current location to cd back to at end\n",
    "start_dir = os.path.abspath(os.curdir)\n",
    "\n",
    "## Make sure troubleshooting folder exists\n",
    "filepath = os.path.abspath(os.path.curdir)\n",
    "if filepath.endswith('Troubleshooting') == False:\n",
    "\tos.makedirs('Troubleshooting',exist_ok=True)\n",
    "\toutput_folder = os.path.abspath('./Troubleshooting/')\n",
    "else:\n",
    "\toutput_folder = os.path.abspath(os.path.curdir)\n",
    "\t# relative_folder = os.path.curdir()\n",
    "\n",
    "## Normalize file path for Windows compatibility\n",
    "output_folder = os.path.normpath(output_folder)\n",
    "if VERBOSE:\n",
    "\tprint(f'- The report will be saved in this folder: \"{output_folder}\"')\n",
    "    \n",
    "## Change kernel to output_folder\n",
    "os.chdir(output_folder)"
   ]
  },
  {
   "cell_type": "code",
   "execution_count": null,
   "metadata": {
    "ExecuteTime": {
     "end_time": "2022-07-03T03:55:40.409426Z",
     "start_time": "2022-07-03T03:55:40.405229Z"
    }
   },
   "outputs": [],
   "source": [
    "## check if txt files already exist\n",
    " \n",
    "## if so, delete the files (list comprehensions way)\n",
    "txt_files = glob.glob(output_folder+\"/temp*.txt\")\n",
    "[os.remove(f) for f in txt_files]\t\t\n",
    "\n",
    "## Confirm they're deleted\t\t\n",
    "txt_files = glob.glob(output_folder+\"/temp*.txt\")\n",
    "\n",
    "if VERBOSE:\n",
    "\tif len(txt_files) == 0:\n",
    "\t\tprint('- [i] Previous text files successfully deleted.')\n",
    "\telse:\n",
    "\t\tprint(f'[!] Previous text files not fully delted ({len(txt_files)} files remain)')"
   ]
  },
  {
   "cell_type": "markdown",
   "metadata": {},
   "source": [
    "### Save Environment Info from Terminal Commands"
   ]
  },
  {
   "cell_type": "code",
   "execution_count": null,
   "metadata": {},
   "outputs": [],
   "source": [
    "## Change kernel to output_folder\n",
    "os.chdir(output_folder)"
   ]
  },
  {
   "cell_type": "code",
   "execution_count": null,
   "metadata": {},
   "outputs": [],
   "source": [
    "import sys\n",
    "\n",
    "def get_platform():\n",
    "    \"\"\"SOURCE: https://www.webucator.com/article/how-to-check-the-operating-system-with-python/\"\"\"\n",
    "    platforms = {\n",
    "        'linux1' : 'Linux',\n",
    "        'linux2' : 'Linux',\n",
    "        'darwin' : 'OS X',\n",
    "        'win32' : 'Windows'\n",
    "    }\n",
    "    if sys.platform not in platforms:\n",
    "        return sys.platform\n",
    "    \n",
    "    return platforms[sys.platform]\n",
    "\n",
    "platform = get_platform()\n",
    "with open('temp-operating system.txt','w') as f:\n",
    "    f.write(f\"Platform: {platform}\\n\")"
   ]
  },
  {
   "cell_type": "code",
   "execution_count": null,
   "metadata": {},
   "outputs": [],
   "source": [
    "# ## Exporting Troubleshooting reports \n",
    "\n",
    "import os,glob\n",
    "os.system('echo $PATH >> temp-shell_path.txt')\n",
    "os.system('conda info >> temp-conda_info.txt')\n",
    "os.system('conda env list >> temp-conda_env_list.txt')\n",
    "os.system('conda list >> temp-conda_list.txt')\n",
    "os.system('jupyter kernelspec list >> temp-jupyter_kernelspec_list.txt')\n",
    "os.system('which python >> temp-which_python.txt')\n",
    "os.system('whoami >> temp-whoami.txt')\n",
    "\n",
    "# Added 08/08/23\n",
    "!echo \"Testing running shell commands from within jupyter.\">> \"temp-echo_test.txt\"\n",
    "\n",
    "## get all .txt files\n",
    "txt_files = sorted(glob.glob(output_folder+\"/temp*.txt\"))\n",
    "len(txt_files)\n"
   ]
  },
  {
   "cell_type": "code",
   "execution_count": null,
   "metadata": {
    "ExecuteTime": {
     "end_time": "2022-07-03T03:55:47.654812Z",
     "start_time": "2022-07-03T03:55:47.650786Z"
    }
   },
   "outputs": [],
   "source": [
    "# ## test getting simple name from fpath\n",
    "# os.path.basename(txt_files[0])"
   ]
  },
  {
   "cell_type": "markdown",
   "metadata": {},
   "source": [
    "### Combine Text File Outputs into 1 Report"
   ]
  },
  {
   "cell_type": "code",
   "execution_count": null,
   "metadata": {
    "ExecuteTime": {
     "end_time": "2022-07-03T03:55:47.665368Z",
     "start_time": "2022-07-03T03:55:47.656945Z"
    }
   },
   "outputs": [],
   "source": [
    "## Combine Text Files into a Dictionary with filename as the keyd\n",
    "raw_report = {}\n",
    "for file in txt_files:\n",
    "\t## simple filename for key\n",
    "\tsimple_fname = os.path.basename(file).replace('.txt','').replace('temp-','') # added temp 080823\n",
    "\t\n",
    "\t# Open file and save its contents into dict\n",
    "\twith open(file) as f:\n",
    "\t\traw_report[simple_fname] =f.read()\n",
    "\t\t\n",
    "raw_report.keys()"
   ]
  },
  {
   "cell_type": "code",
   "execution_count": null,
   "metadata": {},
   "outputs": [],
   "source": [
    "## Setting Preferred Order (conda list last) using orderd_report list\n",
    "if \"conda list\" in raw_report.keys():\n",
    "\tconda_list = raw_report.pop('conda list')\n",
    "else:\n",
    "    conda_list = \"- ERROR USING !conda list command: this machine may not be able to display bash outputs in jupyter notebooks.\\n\"\n",
    "\n",
    "if \"echo_test\" in raw_report.keys():\n",
    "\techo = raw_report.pop('echo_test')\n",
    "else:\n",
    "    echo = \"- ERROR USING !echo command: this machine may not be able to display bash outputs in jupyter notebooks.\\n\"\n",
    "    \n",
    "# Make the ordered report    \n",
    "ordered_report = []\n",
    "for key, data in raw_report.items():\n",
    "\tordered_report.append({key:data})\n",
    "ordered_report.append({'conda list':conda_list})\n",
    "ordered_report.append({'echo test':echo})"
   ]
  },
  {
   "cell_type": "code",
   "execution_count": null,
   "metadata": {
    "ExecuteTime": {
     "end_time": "2022-07-03T03:55:47.670812Z",
     "start_time": "2022-07-03T03:55:47.667634Z"
    }
   },
   "outputs": [],
   "source": [
    "# ## Adding echo test to report (08/08/23)\n",
    "# if \"echo_test\" in raw_report.keys():\n",
    "# \techo = raw_report.pop('echo_test')\n",
    "# else:\n",
    "#     echo = \"- ERROR USING !echo command: this machine may not be able to display bash outputs in jupyter notebooks.\\n\"\n",
    "# ordered_report.append({'Echo Test':echo})"
   ]
  },
  {
   "cell_type": "code",
   "execution_count": null,
   "metadata": {
    "ExecuteTime": {
     "end_time": "2022-07-03T03:55:47.679354Z",
     "start_time": "2022-07-03T03:55:47.672958Z"
    }
   },
   "outputs": [],
   "source": [
    "## Generating final report \n",
    "report_list = []\n",
    "banner = \"====\"*20\n",
    "\n",
    "for report_dict in ordered_report:\n",
    "\tfor name, txt_report in report_dict.items():\n",
    "\t\t\n",
    "\t\t## Start report piece with banner\n",
    "\t\treport_piece = f\"{banner}\\n- [i] {name}:\\n{banner}\\n\"\n",
    "\t\t\n",
    "\t\t## Split System Path for readability\n",
    "\t\tif name == \"shell_path\":\n",
    "\t\t\ttxt_report = txt_report.replace(\":\",\"\\n:\")\n",
    "\t\t\t\n",
    "\t\t## Append file's contents\n",
    "\t\treport_piece += txt_report\n",
    "\t\treport_piece+=f\"{banner}\\n\\n\"\n",
    "\t\t\n",
    "\t\treport_list.append(report_piece)\n",
    "\n",
    "## Deleting individual text files before saving combined file\n",
    "txt_files = glob.glob(output_folder+\"/*.txt\")\t\t\n",
    "[os.remove(f) for f in txt_files];\n"
   ]
  },
  {
   "cell_type": "code",
   "execution_count": null,
   "metadata": {
    "ExecuteTime": {
     "end_time": "2022-07-03T03:55:47.694282Z",
     "start_time": "2022-07-03T03:55:47.687135Z"
    }
   },
   "outputs": [],
   "source": [
    "## Recording time notebook was run\n",
    "import datetime as dt\n",
    "from tzlocal import get_localzone, get_localzone_name\n",
    "now = dt.datetime.now(get_localzone())\n",
    "now_nice = now.strftime(\"%m/%d/%Y @ %I:%M:%S %p \") + f\"(tz={get_localzone_name().split('/')[-1]})\"\n",
    "now_nice"
   ]
  },
  {
   "cell_type": "code",
   "execution_count": null,
   "metadata": {
    "ExecuteTime": {
     "end_time": "2022-07-03T03:55:47.698480Z",
     "start_time": "2022-07-03T03:55:47.695597Z"
    }
   },
   "outputs": [],
   "source": [
    "os.path.normpath(os.path.join(output_folder , \"FINAL_REPORT.txt\"))"
   ]
  },
  {
   "cell_type": "code",
   "execution_count": null,
   "metadata": {
    "ExecuteTime": {
     "end_time": "2022-07-03T03:55:47.703102Z",
     "start_time": "2022-07-03T03:55:47.699949Z"
    }
   },
   "outputs": [],
   "source": [
    "## Saving as FINAL REPORT.txt\n",
    "report_fname = os.path.normpath(os.path.join(output_folder , \"FINAL_REPORT.txt\"))\n",
    "with open(report_fname,'w') as f:\n",
    "    final_txt = \"\\n\".join(report_list)\n",
    "    final_txt += banner\n",
    "    final_txt += f\"\\n - Report created at: {now_nice}\"\n",
    "    final_txt += '\\n'+banner\n",
    "    f.write(final_txt)"
   ]
  },
  {
   "cell_type": "code",
   "execution_count": null,
   "metadata": {
    "ExecuteTime": {
     "end_time": "2022-07-03T03:55:47.703102Z",
     "start_time": "2022-07-03T03:55:47.699949Z"
    }
   },
   "outputs": [],
   "source": [
    "## Getting relative filepath for display in env testing notebooks\n",
    "try:\n",
    "    report_rel_fname= \"dojo-env-setup\" + report_fname.split(os.path.normpath(\"dojo-env-setup/\"))[1]\n",
    "except:\n",
    "    report_rel_fname = report_fname\n",
    "print(f'- [i] Final report saved as {report_rel_fname}')\n"
   ]
  },
  {
   "cell_type": "code",
   "execution_count": null,
   "metadata": {
    "ExecuteTime": {
     "end_time": "2022-07-03T03:55:47.706735Z",
     "start_time": "2022-07-03T03:55:47.704262Z"
    }
   },
   "outputs": [],
   "source": [
    "with open(report_fname) as f:\n",
    "\tfinal_report = f.read()\n",
    "\n",
    "\n",
    "if VERBOSE:\n",
    "\tprint('- [i] FINAL REPORT:\\n')\n",
    "\tprint(final_report)\n",
    "else:\n",
    "\tprint('- [i] Short Preview of FINAL REPORT:\\n')\n",
    "\tprint(final_report[:1000])\n",
    "# print(final_report)"
   ]
  },
  {
   "cell_type": "code",
   "execution_count": null,
   "metadata": {},
   "outputs": [],
   "source": [
    "## REMOVING TEMP FILSE \n",
    "txt_files = glob.glob(output_folder+\"/temp*.txt\")\n",
    "[os.remove(f) for f in txt_files]\t\t\n",
    "txt_files = glob.glob(output_folder+\"/temp*.txt\")\n",
    "len(txt_files)"
   ]
  },
  {
   "cell_type": "code",
   "execution_count": null,
   "metadata": {},
   "outputs": [],
   "source": [
    "# Changing back to original directory\n",
    "os.chdir(start_dir)"
   ]
  }
 ],
 "metadata": {
  "kernelspec": {
   "display_name": "Python (dojo-env)",
   "language": "python",
   "name": "dojo-env"
  },
  "language_info": {
   "codemirror_mode": {
    "name": "ipython",
    "version": 3
   },
   "file_extension": ".py",
   "mimetype": "text/x-python",
   "name": "python",
   "nbconvert_exporter": "python",
   "pygments_lexer": "ipython3",
   "version": "3.10.10"
  },
  "toc": {
   "base_numbering": 1,
   "nav_menu": {},
   "number_sections": true,
   "sideBar": true,
   "skip_h1_title": false,
   "title_cell": "Table of Contents",
   "title_sidebar": "Contents",
   "toc_cell": false,
   "toc_position": {},
   "toc_section_display": true,
   "toc_window_display": false
  },
  "vscode": {
   "interpreter": {
    "hash": "295804e8e014c2a214e7062c757c6b8addd86bbffb9090c97cdc9a271490da83"
   }
  },
  "widgets": {
   "application/vnd.jupyter.widget-state+json": {
    "state": {},
    "version_major": 2,
    "version_minor": 0
   }
  }
 },
 "nbformat": 4,
 "nbformat_minor": 4
}
