{
 "cells": [
  {
   "cell_type": "markdown",
   "id": "03df7db7-2340-4f92-8c2d-01b400d2edab",
   "metadata": {},
   "source": [
    "# Mac - MChip"
   ]
  },
  {
   "cell_type": "markdown",
   "id": "f19474b8-7266-4281-a46c-25b0c7ec6260",
   "metadata": {},
   "source": [
    "> Note: make sure the notebook says \"Python(dojo-env)\" on the top right of jupyter, right below the logout buton.\n",
    "\n",
    "* Run this full notebook and take note of where you receive an error.\n",
    "\n",
    "* If it doesn't, click on the Kernel menu > Change Kernel > Python(dojo-env).\n",
    "\n",
    "* If you receive an error, skip the cell that error'd and continuing running the cells below.\n",
    "\n",
    "* Continue until you have run all of the installation commands successfully.\n",
    "\n",
    "* Save this notebook to share with your instructor for troubleshooting."
   ]
  },
  {
   "cell_type": "code",
   "execution_count": null,
   "id": "c483ea46-b30c-4ee7-bb3f-b67e01c6bd13",
   "metadata": {},
   "outputs": [],
   "source": [
    "!pip install absl-py==1.4.0 --user"
   ]
  },
  {
   "cell_type": "code",
   "execution_count": null,
   "id": "dbaf9229-0a10-42d8-9f88-b2edb05274e6",
   "metadata": {},
   "outputs": [],
   "source": [
    "!pip install astunparse==1.6.3 --user"
   ]
  },
  {
   "cell_type": "code",
   "execution_count": null,
   "id": "fab2aaeb-02b5-4c32-9d22-eaf552589023",
   "metadata": {},
   "outputs": [],
   "source": [
    "!pip install autopep8==2.0.2 --user"
   ]
  },
  {
   "cell_type": "code",
   "execution_count": null,
   "id": "b768d19b-5355-4ec6-8a43-f20241bd3383",
   "metadata": {},
   "outputs": [],
   "source": [
    "!pip install black==23.3.0 --user"
   ]
  },
  {
   "cell_type": "code",
   "execution_count": null,
   "id": "f71d94b6-8f8f-4d0b-a6dc-65185f0f5a50",
   "metadata": {},
   "outputs": [],
   "source": [
    "!pip install cachetools==5.3.0 --user"
   ]
  },
  {
   "cell_type": "code",
   "execution_count": null,
   "id": "75d80962-b938-4405-9eb4-63c4ac956f17",
   "metadata": {},
   "outputs": [],
   "source": [
    "!pip install collinearity==0.6.1 --user"
   ]
  },
  {
   "cell_type": "code",
   "execution_count": null,
   "id": "4ec14157-d29e-4753-bee3-6422c40a2740",
   "metadata": {},
   "outputs": [],
   "source": [
    "!pip install exceptiongroup==1.1.2 --user"
   ]
  },
  {
   "cell_type": "code",
   "execution_count": null,
   "id": "bab58df7-032d-449f-a374-86b1c3493be8",
   "metadata": {},
   "outputs": [],
   "source": [
    "!pip install flatbuffers==23.5.9 --user"
   ]
  },
  {
   "cell_type": "code",
   "execution_count": null,
   "id": "27118a86-7fcb-4aa0-b463-1370ddb12384",
   "metadata": {},
   "outputs": [],
   "source": [
    "!pip install frozendict==2.3.8 --user"
   ]
  },
  {
   "cell_type": "code",
   "execution_count": null,
   "id": "72436d3d-6ce5-4e72-9ca9-0a908bfabe8e",
   "metadata": {},
   "outputs": [],
   "source": [
    "!pip install gast==0.4.0 --user"
   ]
  },
  {
   "cell_type": "code",
   "execution_count": null,
   "id": "f838ed2e-40e4-45d6-8a51-370aa60ec177",
   "metadata": {},
   "outputs": [],
   "source": [
    "!pip install google-auth-oauthlib==1.0.0 --user"
   ]
  },
  {
   "cell_type": "code",
   "execution_count": null,
   "id": "f29fca7c-8cd7-4612-8c31-ef3d865634c9",
   "metadata": {},
   "outputs": [],
   "source": [
    "!pip install google-auth==2.18.1 --user"
   ]
  },
  {
   "cell_type": "code",
   "execution_count": null,
   "id": "1be71776-b798-4c17-b9b0-1e6a102c5746",
   "metadata": {},
   "outputs": [],
   "source": [
    "!pip install google-pasta==0.2.0 --user"
   ]
  },
  {
   "cell_type": "code",
   "execution_count": null,
   "id": "84acb6a5-f00e-4dbf-8b27-fba46a43dd34",
   "metadata": {},
   "outputs": [],
   "source": [
    "!pip install h11==0.14.0 --user"
   ]
  },
  {
   "cell_type": "code",
   "execution_count": null,
   "id": "14d84055-bbea-4e29-bcc1-0dd49e16d9fc",
   "metadata": {},
   "outputs": [],
   "source": [
    "!pip install h5py==3.8.0 --user"
   ]
  },
  {
   "cell_type": "code",
   "execution_count": null,
   "id": "1bce1dc2-776c-445b-b19d-ebabaa98f8f9",
   "metadata": {},
   "outputs": [],
   "source": [
    "!pip install holidays==0.25 --user"
   ]
  },
  {
   "cell_type": "code",
   "execution_count": null,
   "id": "3685376e-15c9-4bd8-8251-909960979875",
   "metadata": {},
   "outputs": [],
   "source": [
    "!pip install html5lib==1.1 --user"
   ]
  },
  {
   "cell_type": "code",
   "execution_count": null,
   "id": "3c70e672-bda6-44b9-b578-d08a7b9ca1ae",
   "metadata": {},
   "outputs": [],
   "source": [
    "!pip install isort==5.12.0 --user"
   ]
  },
  {
   "cell_type": "code",
   "execution_count": null,
   "id": "461d9cd0-3868-4c2c-9ea7-a97d5f046aa5",
   "metadata": {},
   "outputs": [],
   "source": [
    "!pip install jax==0.4.10 --user"
   ]
  },
  {
   "cell_type": "code",
   "execution_count": null,
   "id": "74f2648d-e704-42fa-b5ee-ec9f22bc1b90",
   "metadata": {},
   "outputs": [],
   "source": [
    "!pip install keras-cv==0.6.1 --user"
   ]
  },
  {
   "cell_type": "code",
   "execution_count": null,
   "id": "181a871e-44bf-45e2-bbe8-7481400f5b2b",
   "metadata": {},
   "outputs": [],
   "source": [
    "!pip install keras-tuner==1.3.5 --user"
   ]
  },
  {
   "cell_type": "code",
   "execution_count": null,
   "id": "c5084dbb-aaf6-4dee-88ef-d3966c6d73e0",
   "metadata": {},
   "outputs": [],
   "source": [
    "!pip install keras==2.12.0 --user"
   ]
  },
  {
   "cell_type": "code",
   "execution_count": null,
   "id": "87fa7f1d-5a23-42c7-8eb0-fc0656c5fb3d",
   "metadata": {},
   "outputs": [],
   "source": [
    "!pip install korean-lunar-calendar==0.3.1 --user"
   ]
  },
  {
   "cell_type": "code",
   "execution_count": null,
   "id": "dc945786-e807-4186-bbef-c2a2f354b252",
   "metadata": {},
   "outputs": [],
   "source": [
    "!pip install libclang==16.0.0 --user"
   ]
  },
  {
   "cell_type": "code",
   "execution_count": null,
   "id": "f59ecd6b-46c3-4bcb-ab72-7cc5d58a542a",
   "metadata": {},
   "outputs": [],
   "source": [
    "!pip install markdown==3.4.3 --user"
   ]
  },
  {
   "cell_type": "code",
   "execution_count": null,
   "id": "2eebc5b9-3899-45d5-9322-379697f3fa01",
   "metadata": {},
   "outputs": [],
   "source": [
    "!pip install missingno==0.5.2 --user"
   ]
  },
  {
   "cell_type": "code",
   "execution_count": null,
   "id": "f03fcc77-6c73-4c58-8811-26ca4a0983c2",
   "metadata": {},
   "outputs": [],
   "source": [
    "!pip install ml-dtypes==0.1.0 --user"
   ]
  },
  {
   "cell_type": "code",
   "execution_count": null,
   "id": "01c0f324-518e-4363-ba08-06cbc9a752ac",
   "metadata": {},
   "outputs": [],
   "source": [
    "!pip install mlxtend==0.22.0 --user"
   ]
  },
  {
   "cell_type": "code",
   "execution_count": null,
   "id": "f842c3bc-84da-4d32-87f8-ef7c420f97f3",
   "metadata": {},
   "outputs": [],
   "source": [
    "!pip install multitasking==0.0.11 --user"
   ]
  },
  {
   "cell_type": "code",
   "execution_count": null,
   "id": "1826c699-0e9a-43ab-8be6-b495bc459ac2",
   "metadata": {},
   "outputs": [],
   "source": [
    "!pip install mypy-extensions==1.0.0 --user"
   ]
  },
  {
   "cell_type": "code",
   "execution_count": null,
   "id": "c8c9b3b7-3369-4e5c-a01c-9ad125e6afb9",
   "metadata": {},
   "outputs": [],
   "source": [
    "!pip install oauthlib==3.2.2 --user"
   ]
  },
  {
   "cell_type": "code",
   "execution_count": null,
   "id": "97223827-9e43-42e0-99dc-28ede898ed77",
   "metadata": {},
   "outputs": [],
   "source": [
    "!pip install opencv-python==4.8.0.74 --user"
   ]
  },
  {
   "cell_type": "code",
   "execution_count": null,
   "id": "05addc4a-164f-4245-a9d1-a15a89f3b3cf",
   "metadata": {},
   "outputs": [],
   "source": [
    "!pip install openpyxl==3.1.2 --user"
   ]
  },
  {
   "cell_type": "code",
   "execution_count": null,
   "id": "933b8eef-aeff-4daf-8aba-fe89a7f4ef26",
   "metadata": {},
   "outputs": [],
   "source": [
    "!pip install opt-einsum==3.3.0 --user"
   ]
  },
  {
   "cell_type": "code",
   "execution_count": null,
   "id": "62aae850-156f-4822-b0bc-c70de1da623d",
   "metadata": {},
   "outputs": [],
   "source": [
    "!pip install outcome==1.2.0 --user"
   ]
  },
  {
   "cell_type": "code",
   "execution_count": null,
   "id": "7efbd54b-e337-4a9a-9777-4652e0c06b89",
   "metadata": {},
   "outputs": [],
   "source": [
    "!pip install pathspec==0.11.1 --user"
   ]
  },
  {
   "cell_type": "code",
   "execution_count": null,
   "id": "e48c646b-9113-4c2d-bfa3-5fc9daa19a1e",
   "metadata": {},
   "outputs": [],
   "source": [
    "!pip install plot-keras-history==1.1.38 --user"
   ]
  },
  {
   "cell_type": "code",
   "execution_count": null,
   "id": "4bef2d21-5691-46d5-9651-d0e75667f91f",
   "metadata": {},
   "outputs": [],
   "source": [
    "!pip install protobuf==4.23.1 --user"
   ]
  },
  {
   "cell_type": "code",
   "execution_count": null,
   "id": "488f68be-6d9e-4ca5-9e3e-6fe2a98d0cde",
   "metadata": {},
   "outputs": [],
   "source": [
    "!pip install pyasn1-modules==0.3.0 --user"
   ]
  },
  {
   "cell_type": "code",
   "execution_count": null,
   "id": "2615f79e-d3ff-4999-9f56-f86635091aa1",
   "metadata": {},
   "outputs": [],
   "source": [
    "!pip install pyasn1==0.5.0 --user"
   ]
  },
  {
   "cell_type": "code",
   "execution_count": null,
   "id": "7cf3ea80-0524-4f2f-bfd7-f60cac2d889c",
   "metadata": {},
   "outputs": [],
   "source": [
    "!pip install pycodestyle==2.10.0 --user"
   ]
  },
  {
   "cell_type": "code",
   "execution_count": null,
   "id": "f8cf3d2d-37c1-4890-befa-7571717e16a5",
   "metadata": {},
   "outputs": [],
   "source": [
    "!pip install pyqt5-sip==12.11.0 --user"
   ]
  },
  {
   "cell_type": "code",
   "execution_count": null,
   "id": "503bb651-d2de-4acb-aa9b-6186ab08fe89",
   "metadata": {},
   "outputs": [],
   "source": [
    "!pip install requests-oauthlib==1.3.1 --user"
   ]
  },
  {
   "cell_type": "code",
   "execution_count": null,
   "id": "558b677a-13bf-4934-b9f6-0a17e6c64ecd",
   "metadata": {},
   "outputs": [],
   "source": [
    "!pip install rsa==4.9 --user"
   ]
  },
  {
   "cell_type": "code",
   "execution_count": null,
   "id": "c83205c2-b8ed-4219-9053-815069c6a85f",
   "metadata": {},
   "outputs": [],
   "source": [
    "!pip install scikeras==0.11.0 --user"
   ]
  },
  {
   "cell_type": "code",
   "execution_count": null,
   "id": "2420cd33-dff6-46d8-9630-3cf6c390ec60",
   "metadata": {},
   "outputs": [],
   "source": [
    "!pip install selenium==4.10.0 --user"
   ]
  },
  {
   "cell_type": "code",
   "execution_count": null,
   "id": "0a578e2e-a660-4f5e-9032-c6d56e0cd05a",
   "metadata": {},
   "outputs": [],
   "source": [
    "!pip install sortedcontainers==2.4.0 --user"
   ]
  },
  {
   "cell_type": "code",
   "execution_count": null,
   "id": "897383bf-54db-4b51-a064-617f0c9e2197",
   "metadata": {},
   "outputs": [],
   "source": [
    "!pip install tensorboard-data-server==0.7.0 --user"
   ]
  },
  {
   "cell_type": "code",
   "execution_count": null,
   "id": "11e3680f-6bd4-4051-8610-914aec88466b",
   "metadata": {},
   "outputs": [],
   "source": [
    "!pip install tensorboard==2.12.3 --user"
   ]
  },
  {
   "cell_type": "code",
   "execution_count": null,
   "id": "bd08e290-a609-44bb-b04a-4a293cf28bfc",
   "metadata": {},
   "outputs": [],
   "source": [
    "!pip install tensorflow-estimator==2.12.0 --user"
   ]
  },
  {
   "cell_type": "code",
   "execution_count": null,
   "id": "66bdcc73-5b32-4af3-bac1-98ee6f14f986",
   "metadata": {},
   "outputs": [],
   "source": [
    "!pip install tensorflow-macos==2.12.0 --user"
   ]
  },
  {
   "cell_type": "code",
   "execution_count": null,
   "id": "656fefb3-92a7-4aa3-98d5-fa0dae4b8e2a",
   "metadata": {},
   "outputs": [],
   "source": [
    "!pip install tensorflow-metal==0.8.0 --user"
   ]
  },
  {
   "cell_type": "code",
   "execution_count": null,
   "id": "af6548c3-9d3c-4066-b48b-865dc440cbff",
   "metadata": {},
   "outputs": [],
   "source": [
    "!pip install termcolor==2.3.0 --user"
   ]
  },
  {
   "cell_type": "code",
   "execution_count": null,
   "id": "e0540feb-6acd-4ec3-961e-07a5b723f169",
   "metadata": {},
   "outputs": [],
   "source": [
    "!pip install trio-websocket==0.10.3 --user"
   ]
  },
  {
   "cell_type": "code",
   "execution_count": null,
   "id": "01e1fdd9-a619-473b-bf13-4accf27d6ff8",
   "metadata": {},
   "outputs": [],
   "source": [
    "!pip install trio==0.22.2 --user"
   ]
  },
  {
   "cell_type": "code",
   "execution_count": null,
   "id": "64b44932-2bd0-4341-b544-4205f1a641f6",
   "metadata": {},
   "outputs": [],
   "source": [
    "!pip install tzlocal==5.0.1 --user"
   ]
  },
  {
   "cell_type": "code",
   "execution_count": null,
   "id": "b0476269-f6cb-4560-82f6-e9d70bdf7a66",
   "metadata": {},
   "outputs": [],
   "source": [
    "!pip install visualkeras==0.0.2 --user"
   ]
  },
  {
   "cell_type": "code",
   "execution_count": null,
   "id": "9b216ec6-e2a1-4864-a200-32488a79a894",
   "metadata": {},
   "outputs": [],
   "source": [
    "!pip install werkzeug==2.3.4 --user"
   ]
  },
  {
   "cell_type": "code",
   "execution_count": null,
   "id": "cdc324dc-6dc2-4123-9275-5ef4dff923c4",
   "metadata": {},
   "outputs": [],
   "source": [
    "!pip install wrapt==1.14.1 --user"
   ]
  },
  {
   "cell_type": "code",
   "execution_count": null,
   "id": "75bfd673-8e41-4ef7-8f02-ab3d744add43",
   "metadata": {},
   "outputs": [],
   "source": [
    "!pip install wsproto==1.2.0 --user"
   ]
  },
  {
   "cell_type": "code",
   "execution_count": null,
   "id": "78b1fa65-5e56-4408-b1e0-30a834828d7c",
   "metadata": {},
   "outputs": [],
   "source": [
    "!pip install yapf==0.33.0 --user"
   ]
  },
  {
   "cell_type": "code",
   "execution_count": null,
   "id": "24548e73-de95-4678-aee9-4da905657f83",
   "metadata": {},
   "outputs": [],
   "source": [
    "!pip install yellowbrick==1.5 --user"
   ]
  },
  {
   "cell_type": "code",
   "execution_count": null,
   "id": "7a353d7e-c718-4fad-94bf-a9e93e3b5869",
   "metadata": {},
   "outputs": [],
   "source": [
    "!pip install yfinance==0.2.18 --user"
   ]
  }
 ],
 "metadata": {
  "kernelspec": {
   "display_name": "Python 3 (ipykernel)",
   "language": "python",
   "name": "python3"
  },
  "language_info": {
   "codemirror_mode": {
    "name": "ipython",
    "version": 3
   },
   "file_extension": ".py",
   "mimetype": "text/x-python",
   "name": "python",
   "nbconvert_exporter": "python",
   "pygments_lexer": "ipython3",
   "version": "3.10.10"
  }
 },
 "nbformat": 4,
 "nbformat_minor": 5
}
