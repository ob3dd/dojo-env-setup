{
 "cells": [
  {
   "cell_type": "markdown",
   "id": "7c67b557-2c95-4cf9-9751-e0e60b535dcb",
   "metadata": {},
   "source": [
    "# Windows"
   ]
  },
  {
   "cell_type": "markdown",
   "id": "09a823d1-84b9-49ec-bb1f-d6a64ea646f4",
   "metadata": {},
   "source": [
    "> Note: make sure the notebook says \"Python(dojo-env)\" on the top right of jupyter, right below the logout buton.\n",
    "\n",
    "* Run this full notebook and take note of where you receive an error.\n",
    "\n",
    "* If it doesn't, click on the Kernel menu > Change Kernel > Python(dojo-env).\n",
    "\n",
    "* If you receive an error, skip the cell that error'd and continuing running the cells below.\n",
    "\n",
    "* Continue until you have run all of the installation commands successfully.\n",
    "\n",
    "* Save this notebook to share with your instructor for troubleshooting."
   ]
  },
  {
   "cell_type": "code",
   "execution_count": null,
   "id": "3775b7a0-703d-4559-8e4e-28e06938ba7a",
   "metadata": {},
   "outputs": [],
   "source": [
    "!pip install absl-py==1.4.0 --user"
   ]
  },
  {
   "cell_type": "code",
   "execution_count": null,
   "id": "bbad3ca9-e94e-4b68-9d86-6ee8982dfccf",
   "metadata": {},
   "outputs": [],
   "source": [
    "!pip install astunparse==1.6.3 --user"
   ]
  },
  {
   "cell_type": "code",
   "execution_count": null,
   "id": "27dce8ea-bb26-4509-87b5-06ae57c1d4de",
   "metadata": {},
   "outputs": [],
   "source": [
    "!pip install autopep8==2.0.2 --user"
   ]
  },
  {
   "cell_type": "code",
   "execution_count": null,
   "id": "3a29f80b-b3a1-415d-aee7-f0c9e6a84e00",
   "metadata": {},
   "outputs": [],
   "source": [
    "!pip install black==23.3.0 --user"
   ]
  },
  {
   "cell_type": "code",
   "execution_count": null,
   "id": "20ea8623-c0af-487a-8db7-4913a0f690ba",
   "metadata": {},
   "outputs": [],
   "source": [
    "!pip install cachetools==5.3.0 --user"
   ]
  },
  {
   "cell_type": "code",
   "execution_count": null,
   "id": "75d0d6d4-9fba-4064-8b96-8703b7ca2598",
   "metadata": {},
   "outputs": [],
   "source": [
    "!pip install collinearity==0.6.1 --user"
   ]
  },
  {
   "cell_type": "code",
   "execution_count": null,
   "id": "493b7b20-a7ae-4307-9ea9-bf02d3bef376",
   "metadata": {},
   "outputs": [],
   "source": [
    "!pip install exceptiongroup==1.1.2 --user"
   ]
  },
  {
   "cell_type": "code",
   "execution_count": null,
   "id": "0e58264e-74f0-408c-9efc-e5cf4d65a77c",
   "metadata": {},
   "outputs": [],
   "source": [
    "!pip install flatbuffers==23.5.9 --user"
   ]
  },
  {
   "cell_type": "code",
   "execution_count": null,
   "id": "7c82c7f8-d862-47aa-91c2-fdc3e8e7a1cd",
   "metadata": {},
   "outputs": [],
   "source": [
    "!pip install frozendict==2.3.8 --user"
   ]
  },
  {
   "cell_type": "code",
   "execution_count": null,
   "id": "144296aa-1b75-4a3e-b079-e499b520189c",
   "metadata": {},
   "outputs": [],
   "source": [
    "!pip install gast==0.4.0 --user"
   ]
  },
  {
   "cell_type": "code",
   "execution_count": null,
   "id": "a4ee1d9f-aab6-4a5c-a9d0-5aeae2f99ad2",
   "metadata": {},
   "outputs": [],
   "source": [
    "!pip install google-auth-oauthlib==1.0.0 --user"
   ]
  },
  {
   "cell_type": "code",
   "execution_count": null,
   "id": "fd82a94f-8c25-45c0-8f86-8d3193fab705",
   "metadata": {},
   "outputs": [],
   "source": [
    "!pip install google-auth==2.18.1 --user"
   ]
  },
  {
   "cell_type": "code",
   "execution_count": null,
   "id": "9f181576-c259-4ccf-9420-d7951ade495a",
   "metadata": {},
   "outputs": [],
   "source": [
    "!pip install google-pasta==0.2.0 --user"
   ]
  },
  {
   "cell_type": "code",
   "execution_count": null,
   "id": "ec642ef9-21bf-4390-acd4-f92943e3959b",
   "metadata": {},
   "outputs": [],
   "source": [
    "!pip install h11==0.14.0 --user"
   ]
  },
  {
   "cell_type": "code",
   "execution_count": null,
   "id": "17d39cd3-e415-4dfe-bc32-33b172867d22",
   "metadata": {},
   "outputs": [],
   "source": [
    "!pip install h5py==3.8.0 --user"
   ]
  },
  {
   "cell_type": "code",
   "execution_count": null,
   "id": "080723bc-2d72-4855-9bb6-f5c9dacba45b",
   "metadata": {},
   "outputs": [],
   "source": [
    "!pip install holidays==0.25 --user"
   ]
  },
  {
   "cell_type": "code",
   "execution_count": null,
   "id": "36592daf-fb0f-4bd9-a196-f2e39dfbba0f",
   "metadata": {},
   "outputs": [],
   "source": [
    "!pip install html5lib==1.1 --user"
   ]
  },
  {
   "cell_type": "code",
   "execution_count": null,
   "id": "7456a561-82a0-4071-9cce-f7a350fc07dd",
   "metadata": {},
   "outputs": [],
   "source": [
    "!pip install isort==5.12.0 --user"
   ]
  },
  {
   "cell_type": "code",
   "execution_count": null,
   "id": "b800d845-2f85-45b2-83ee-19796bc73918",
   "metadata": {},
   "outputs": [],
   "source": [
    "!pip install jax==0.4.10 --user"
   ]
  },
  {
   "cell_type": "code",
   "execution_count": null,
   "id": "7a48c76e-1673-4f20-8fc4-9d397d1a8737",
   "metadata": {},
   "outputs": [],
   "source": [
    "!pip install keras-cv==0.6.1 --user"
   ]
  },
  {
   "cell_type": "code",
   "execution_count": null,
   "id": "68663807-93f0-4950-92bb-f935a7f94dca",
   "metadata": {},
   "outputs": [],
   "source": [
    "!pip install keras-tuner==1.3.5 --user"
   ]
  },
  {
   "cell_type": "code",
   "execution_count": null,
   "id": "0bdd4456-c44c-4d4a-b476-0f5430a59018",
   "metadata": {},
   "outputs": [],
   "source": [
    "!pip install keras==2.12.0 --user"
   ]
  },
  {
   "cell_type": "code",
   "execution_count": null,
   "id": "84c0c12f-f750-41ff-995a-928ca767dbe5",
   "metadata": {},
   "outputs": [],
   "source": [
    "!pip install korean-lunar-calendar==0.3.1 --user"
   ]
  },
  {
   "cell_type": "code",
   "execution_count": null,
   "id": "84426c65-9e8f-4108-ae0a-67a0bdb46fb5",
   "metadata": {},
   "outputs": [],
   "source": [
    "!pip install libclang==16.0.0 --user"
   ]
  },
  {
   "cell_type": "code",
   "execution_count": null,
   "id": "cd920cd5-5713-4e88-b955-0f83a0708e3f",
   "metadata": {},
   "outputs": [],
   "source": [
    "!pip install lightgbm==3.3.5 --user"
   ]
  },
  {
   "cell_type": "code",
   "execution_count": null,
   "id": "5bdd5c61-b3f5-4bc5-944e-342ef2c2edf4",
   "metadata": {},
   "outputs": [],
   "source": [
    "!pip install markdown==3.4.3 --user"
   ]
  },
  {
   "cell_type": "code",
   "execution_count": null,
   "id": "2ec5ee5d-f036-43b9-808d-c1b4fa3965aa",
   "metadata": {},
   "outputs": [],
   "source": [
    "!pip install missingno==0.5.2 --user"
   ]
  },
  {
   "cell_type": "code",
   "execution_count": null,
   "id": "79de486a-a247-4c7d-ad47-967c99913e5f",
   "metadata": {},
   "outputs": [],
   "source": [
    "!pip install ml-dtypes==0.1.0 --user"
   ]
  },
  {
   "cell_type": "code",
   "execution_count": null,
   "id": "3f245d0f-9eec-4b3e-98ae-5a0ecd96e4fd",
   "metadata": {},
   "outputs": [],
   "source": [
    "!pip install mlxtend==0.22.0 --user"
   ]
  },
  {
   "cell_type": "code",
   "execution_count": null,
   "id": "facaec4b-96b4-4318-b57a-2b752ac33835",
   "metadata": {},
   "outputs": [],
   "source": [
    "!pip install multitasking==0.0.11 --user"
   ]
  },
  {
   "cell_type": "code",
   "execution_count": null,
   "id": "d0bda881-06c0-4420-87ef-a288cfea0ef5",
   "metadata": {},
   "outputs": [],
   "source": [
    "!pip install mypy-extensions==1.0.0 --user"
   ]
  },
  {
   "cell_type": "code",
   "execution_count": null,
   "id": "82d320c1-befd-485e-bade-8f1979e76d2f",
   "metadata": {},
   "outputs": [],
   "source": [
    "!pip install oauthlib==3.2.2 --user"
   ]
  },
  {
   "cell_type": "code",
   "execution_count": null,
   "id": "a7ab1ef7-0145-4ad2-b564-0cc61ff6f426",
   "metadata": {},
   "outputs": [],
   "source": [
    "!pip install opencv-python==4.8.0.74 --user"
   ]
  },
  {
   "cell_type": "code",
   "execution_count": null,
   "id": "112cf3c5-9e19-40b7-804e-981092805029",
   "metadata": {},
   "outputs": [],
   "source": [
    "!pip install openpyxl==3.1.2 --user"
   ]
  },
  {
   "cell_type": "code",
   "execution_count": null,
   "id": "6bb6fa69-f3bb-47fc-aaf2-3b4945cc8d9e",
   "metadata": {},
   "outputs": [],
   "source": [
    "!pip install opt-einsum==3.3.0 --user"
   ]
  },
  {
   "cell_type": "code",
   "execution_count": null,
   "id": "b53dbdcc-12e2-4e09-b8b4-0885d4886c5a",
   "metadata": {},
   "outputs": [],
   "source": [
    "!pip install outcome==1.2.0 --user"
   ]
  },
  {
   "cell_type": "code",
   "execution_count": null,
   "id": "a3b90324-91f8-4c1b-8d93-7c654719eec1",
   "metadata": {},
   "outputs": [],
   "source": [
    "!pip install pathspec==0.11.1 --user"
   ]
  },
  {
   "cell_type": "code",
   "execution_count": null,
   "id": "360f601b-a304-47b3-aa29-11bd06809aa1",
   "metadata": {},
   "outputs": [],
   "source": [
    "!pip install plot-keras-history==1.1.38 --user"
   ]
  },
  {
   "cell_type": "code",
   "execution_count": null,
   "id": "aa7d8bc0-7528-4a8a-9b42-49e27caeab31",
   "metadata": {},
   "outputs": [],
   "source": [
    "!pip install protobuf==4.23.1 --user"
   ]
  },
  {
   "cell_type": "code",
   "execution_count": null,
   "id": "1f02d17b-4402-4e53-b0c0-6fe0eb7b8011",
   "metadata": {},
   "outputs": [],
   "source": [
    "!pip install pyasn1-modules==0.3.0 --user"
   ]
  },
  {
   "cell_type": "code",
   "execution_count": null,
   "id": "9888f415-bd27-497d-a5f8-25907de22b5b",
   "metadata": {},
   "outputs": [],
   "source": [
    "!pip install pyasn1==0.5.0 --user"
   ]
  },
  {
   "cell_type": "code",
   "execution_count": null,
   "id": "004c4a7e-2c0a-41cc-9468-4d7ca5cae4e3",
   "metadata": {},
   "outputs": [],
   "source": [
    "!pip install pycodestyle==2.10.0 --user"
   ]
  },
  {
   "cell_type": "code",
   "execution_count": null,
   "id": "1eaf1265-796d-479c-a13f-61d63054313e",
   "metadata": {},
   "outputs": [],
   "source": [
    "!pip install requests-oauthlib==1.3.1 --user"
   ]
  },
  {
   "cell_type": "code",
   "execution_count": null,
   "id": "b6edab8f-02e3-4436-9cd0-595dad1f1655",
   "metadata": {},
   "outputs": [],
   "source": [
    "!pip install rsa==4.9 --user"
   ]
  },
  {
   "cell_type": "code",
   "execution_count": null,
   "id": "307bba1f-1956-42d6-b7e4-c046ca6a9caa",
   "metadata": {},
   "outputs": [],
   "source": [
    "!pip install scikeras==0.11.0 --user"
   ]
  },
  {
   "cell_type": "code",
   "execution_count": null,
   "id": "79647b1b-a05e-4633-973c-8e046e25f0dc",
   "metadata": {},
   "outputs": [],
   "source": [
    "!pip install selenium==4.10.0 --user"
   ]
  },
  {
   "cell_type": "code",
   "execution_count": null,
   "id": "d7dfb9ae-db22-4384-900e-155ddcd584cb",
   "metadata": {},
   "outputs": [],
   "source": [
    "!pip install sortedcontainers==2.4.0 --user"
   ]
  },
  {
   "cell_type": "code",
   "execution_count": null,
   "id": "b4501efb-36e0-4889-9528-601f2b8e53b2",
   "metadata": {},
   "outputs": [],
   "source": [
    "!pip install tensorboard-data-server==0.7.0 --user"
   ]
  },
  {
   "cell_type": "code",
   "execution_count": null,
   "id": "e68766b0-75ec-4809-ac87-4d712ca33582",
   "metadata": {},
   "outputs": [],
   "source": [
    "!pip install tensorboard==2.12.3 --user"
   ]
  },
  {
   "cell_type": "code",
   "execution_count": null,
   "id": "8c2e40a6-d7ba-4d03-ae41-c71d7e66cd7c",
   "metadata": {},
   "outputs": [],
   "source": [
    "!pip install tensorflow-estimator==2.12.0 --user"
   ]
  },
  {
   "cell_type": "code",
   "execution_count": null,
   "id": "a0b8e046-85a8-49c7-9f31-4e35bf4a6ad9",
   "metadata": {},
   "outputs": [],
   "source": [
    "!pip install tensorflow-intel==2.12.0 --user"
   ]
  },
  {
   "cell_type": "code",
   "execution_count": null,
   "id": "26df01f4-e82d-4dea-b6dd-02a1694ae2ed",
   "metadata": {},
   "outputs": [],
   "source": [
    "!pip install tensorflow-io-gcs-filesystem==0.31.0 --user"
   ]
  },
  {
   "cell_type": "code",
   "execution_count": null,
   "id": "b78f790d-1c2f-4919-8b80-3cb05733c980",
   "metadata": {},
   "outputs": [],
   "source": [
    "!pip install tensorflow==2.12.0 --user"
   ]
  },
  {
   "cell_type": "code",
   "execution_count": null,
   "id": "fcce73ff-d73a-4229-b3b6-6101c3e1ba76",
   "metadata": {},
   "outputs": [],
   "source": [
    "!pip install termcolor==2.3.0 --user"
   ]
  },
  {
   "cell_type": "code",
   "execution_count": null,
   "id": "671cc80a-e1ab-4ceb-8251-a1f28b18a184",
   "metadata": {},
   "outputs": [],
   "source": [
    "!pip install trio-websocket==0.10.3 --user"
   ]
  },
  {
   "cell_type": "code",
   "execution_count": null,
   "id": "cc378a6a-514b-43e6-bc1c-f3482b05a72c",
   "metadata": {},
   "outputs": [],
   "source": [
    "!pip install trio==0.22.2 --user"
   ]
  },
  {
   "cell_type": "code",
   "execution_count": null,
   "id": "c995100b-7027-45d9-805a-13fbcd06cdd6",
   "metadata": {},
   "outputs": [],
   "source": [
    "!pip install tzdata==2023.3 --user"
   ]
  },
  {
   "cell_type": "code",
   "execution_count": null,
   "id": "e5bc72ae-dd2f-456d-8827-dd3b6b5431e8",
   "metadata": {},
   "outputs": [],
   "source": [
    "!pip install tzlocal==5.0.1 --user"
   ]
  },
  {
   "cell_type": "code",
   "execution_count": null,
   "id": "6257e6ce-d108-419b-9d3c-361ae90e9635",
   "metadata": {},
   "outputs": [],
   "source": [
    "!pip install visualkeras==0.0.2 --user"
   ]
  },
  {
   "cell_type": "code",
   "execution_count": null,
   "id": "ffb8784c-8820-4bd0-9723-8fd161987901",
   "metadata": {},
   "outputs": [],
   "source": [
    "!pip install werkzeug==2.3.4 --user"
   ]
  },
  {
   "cell_type": "code",
   "execution_count": null,
   "id": "7f52c600-c828-4eef-bff1-1a3d4a805627",
   "metadata": {},
   "outputs": [],
   "source": [
    "!pip install wrapt==1.14.1 --user"
   ]
  },
  {
   "cell_type": "code",
   "execution_count": null,
   "id": "22021729-4643-4d1f-aa8d-2b52fe7469c9",
   "metadata": {},
   "outputs": [],
   "source": [
    "!pip install wsproto==1.2.0 --user"
   ]
  },
  {
   "cell_type": "code",
   "execution_count": null,
   "id": "e6c673ed-84bf-47b3-a765-bb1547694071",
   "metadata": {},
   "outputs": [],
   "source": [
    "!pip install yellowbrick==1.5 --user"
   ]
  },
  {
   "cell_type": "code",
   "execution_count": null,
   "id": "ab085a25-8b3f-4d0f-87cf-43c2e7c04310",
   "metadata": {},
   "outputs": [],
   "source": [
    "!pip install yfinance==0.2.18 --user"
   ]
  }
 ],
 "metadata": {
  "kernelspec": {
   "display_name": "Python 3 (ipykernel)",
   "language": "python",
   "name": "python3"
  },
  "language_info": {
   "codemirror_mode": {
    "name": "ipython",
    "version": 3
   },
   "file_extension": ".py",
   "mimetype": "text/x-python",
   "name": "python",
   "nbconvert_exporter": "python",
   "pygments_lexer": "ipython3",
   "version": "3.10.10"
  }
 },
 "nbformat": 4,
 "nbformat_minor": 5
}
